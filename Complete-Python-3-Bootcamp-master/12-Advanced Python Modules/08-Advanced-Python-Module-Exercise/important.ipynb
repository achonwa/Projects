{
 "cells": [
  {
   "cell_type": "code",
   "execution_count": 14,
   "id": "82deece1",
   "metadata": {},
   "outputs": [],
   "source": [
    "import shutil\n",
    "import os\n",
    "import re"
   ]
  },
  {
   "cell_type": "code",
   "execution_count": 2,
   "id": "50156087",
   "metadata": {},
   "outputs": [],
   "source": [
    "shutil.unpack_archive('unzip_me_for_instructions.zip',\"content_unzip\",\"zip\")"
   ]
  },
  {
   "cell_type": "code",
   "execution_count": 18,
   "id": "ae56637c",
   "metadata": {},
   "outputs": [],
   "source": [
    "def search(file,pattern =r'\\d{3}-\\d{3}-\\d{4}'):\n",
    "    f = open(file, 'r')\n",
    "    text = f.read()\n",
    "    \n",
    "    if re.search(pattern,text):\n",
    "        return re.search(pattern,text)\n",
    "    else:\n",
    "        return ''\n",
    "    \n",
    "     "
   ]
  },
  {
   "cell_type": "code",
   "execution_count": 20,
   "id": "3908bb9f",
   "metadata": {},
   "outputs": [],
   "source": [
    "file_path = '/Users/mac/Desktop/CODES/Python/Complete-Python-3-Bootcamp-master/12-Advanced Python Modules/08-Advanced-Python-Module-Exercise/content_unzip/extracted_content'\n",
    "\n",
    "\n",
    "\n",
    "results =[]"
   ]
  },
  {
   "cell_type": "code",
   "execution_count": 22,
   "id": "48c6fb80",
   "metadata": {},
   "outputs": [],
   "source": [
    "for folders,subfolder,files in os.walk(file_path):\n",
    "    \n",
    "    \n",
    "    for f in files:\n",
    "        full_path = folders+\"/\"+f\n",
    "        \n",
    "        results.append(search(full_path))\n",
    "        \n",
    "            \n",
    "            \n",
    "            \n",
    "            \n",
    "            "
   ]
  },
  {
   "cell_type": "code",
   "execution_count": 28,
   "id": "46ec0095",
   "metadata": {},
   "outputs": [
    {
     "name": "stdout",
     "output_type": "stream",
     "text": [
      "719-266-2837\n"
     ]
    }
   ],
   "source": [
    "for r in results:\n",
    "    if r != '':\n",
    "        print(r.group())"
   ]
  },
  {
   "cell_type": "code",
   "execution_count": null,
   "id": "9a1f49f3",
   "metadata": {},
   "outputs": [],
   "source": []
  }
 ],
 "metadata": {
  "kernelspec": {
   "display_name": "Python 3 (ipykernel)",
   "language": "python",
   "name": "python3"
  },
  "language_info": {
   "codemirror_mode": {
    "name": "ipython",
    "version": 3
   },
   "file_extension": ".py",
   "mimetype": "text/x-python",
   "name": "python",
   "nbconvert_exporter": "python",
   "pygments_lexer": "ipython3",
   "version": "3.9.7"
  }
 },
 "nbformat": 4,
 "nbformat_minor": 5
}
