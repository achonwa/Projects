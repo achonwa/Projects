{
 "cells": [
  {
   "cell_type": "code",
   "execution_count": 9,
   "id": "342f6867",
   "metadata": {},
   "outputs": [],
   "source": [
    "def display(row1, row2, row3):\n",
    "    print(row1)\n",
    "    print(row2)\n",
    "    print(row3)"
   ]
  },
  {
   "cell_type": "code",
   "execution_count": null,
   "id": "d0c01683",
   "metadata": {},
   "outputs": [],
   "source": []
  },
  {
   "cell_type": "code",
   "execution_count": 10,
   "id": "d02e074d",
   "metadata": {
    "scrolled": true
   },
   "outputs": [
    {
     "name": "stdout",
     "output_type": "stream",
     "text": [
      "[1, 2, 3]\n",
      "[1, 2, 3]\n",
      "[1, 2, 3]\n"
     ]
    }
   ],
   "source": [
    "sample_row =[1,2,3]\n",
    "display(sample_row,sample_row,sample_row)"
   ]
  },
  {
   "cell_type": "code",
   "execution_count": 11,
   "id": "7f5cf919",
   "metadata": {},
   "outputs": [],
   "source": [
    "def user_choice():\n",
    "    choice = 'Wrong'\n",
    "    acceptable_range = range(0,10)\n",
    "    within_range = False\n",
    "    \n",
    "    while choice.isdigit() == False or within_range == False:\n",
    "        \n",
    "        choice = input('Please enter a number between 0-10 ')\n",
    "        if choice.isdigit() == False:\n",
    "            print('That isnt a digit')\n",
    "            \n",
    "        if choice.isdigit() == True:\n",
    "            \n",
    "            if int(choice)in acceptable_range:\n",
    "                 \n",
    "                within_range = True\n",
    "            else:\n",
    "                print(\"Sorry you're out of acceptable range (0-10)\")\n",
    "                within_range = False\n",
    "            \n",
    "                \n",
    "        \n",
    "    return int(choice)    "
   ]
  },
  {
   "cell_type": "code",
   "execution_count": 12,
   "id": "aeae889d",
   "metadata": {},
   "outputs": [
    {
     "name": "stdout",
     "output_type": "stream",
     "text": [
      "Please enter a number between 0-10 yes\n",
      "That isnt a digit\n",
      "Please enter a number between 0-10 93\n",
      "Sorry you're out of acceptable range (0-10)\n",
      "Please enter a number between 0-10 9\n"
     ]
    },
    {
     "data": {
      "text/plain": [
       "9"
      ]
     },
     "execution_count": 12,
     "metadata": {},
     "output_type": "execute_result"
    }
   ],
   "source": [
    "user_choice()"
   ]
  },
  {
   "cell_type": "code",
   "execution_count": 18,
   "id": "4f9878ff",
   "metadata": {},
   "outputs": [],
   "source": [
    "#DEMO SETUP \n",
    "game_list = [0,1,2]"
   ]
  },
  {
   "cell_type": "code",
   "execution_count": 19,
   "id": "d97f23f5",
   "metadata": {},
   "outputs": [],
   "source": [
    "def display_game(game_list):\n",
    "    print('Here is the current list')\n",
    "    print(game_list)"
   ]
  },
  {
   "cell_type": "code",
   "execution_count": 20,
   "id": "e0bd656a",
   "metadata": {},
   "outputs": [
    {
     "name": "stdout",
     "output_type": "stream",
     "text": [
      "Here is the current list\n",
      "[0, 1, 2]\n"
     ]
    }
   ],
   "source": [
    "display_game(game_list)"
   ]
  },
  {
   "cell_type": "code",
   "execution_count": 21,
   "id": "bfbf8a17",
   "metadata": {},
   "outputs": [],
   "source": [
    "def position_choice():\n",
    "    choice ='Wrong'\n",
    "    while choice not in ['0','1','2']:\n",
    "        choice = input('Pick a position (0,1,2): ')\n",
    "        \n",
    "        if choice not in ['0','1','2']:\n",
    "            print(\"Sorry, Invalid Choice \")\n",
    "            \n",
    "    return int(choice)\n",
    "         \n",
    "            "
   ]
  },
  {
   "cell_type": "code",
   "execution_count": 22,
   "id": "4c9de00a",
   "metadata": {},
   "outputs": [
    {
     "name": "stdout",
     "output_type": "stream",
     "text": [
      "Pick a position (0,1,2): 2\n"
     ]
    },
    {
     "data": {
      "text/plain": [
       "2"
      ]
     },
     "execution_count": 22,
     "metadata": {},
     "output_type": "execute_result"
    }
   ],
   "source": [
    "position_choice()"
   ]
  },
  {
   "cell_type": "code",
   "execution_count": 23,
   "id": "79fa94a2",
   "metadata": {},
   "outputs": [],
   "source": [
    "def replacement_choice(game_list,position):\n",
    "    user_placement = input(\"Type  a string to place at position: \")\n",
    "    game_list[position] = user_placement \n",
    "    \n",
    "    \n",
    "    return game_list\n",
    "    \n",
    "     \n",
    "    "
   ]
  },
  {
   "cell_type": "code",
   "execution_count": 24,
   "id": "f917ebb3",
   "metadata": {},
   "outputs": [
    {
     "name": "stdout",
     "output_type": "stream",
     "text": [
      "Type  a string to place at position: wanker\n"
     ]
    },
    {
     "data": {
      "text/plain": [
       "[0, 1, 'wanker']"
      ]
     },
     "execution_count": 24,
     "metadata": {},
     "output_type": "execute_result"
    }
   ],
   "source": [
    "replacement_choice(game_list, 2)"
   ]
  },
  {
   "cell_type": "code",
   "execution_count": 25,
   "id": "ee8b64ba",
   "metadata": {},
   "outputs": [],
   "source": [
    "def gameon_choice():\n",
    "    choice = 'Wrong'\n",
    "    while choice not in ['Y', 'N']:\n",
    "        choice = input('Do you want to keep playing?  Y OR N')\n",
    "        if choice not in ['Y', 'N']:\n",
    "            print('Sorry I dont understand, please choose Y or N ')\n",
    "            \n",
    "    \n",
    "    if choice == 'Y':\n",
    "        return True\n",
    "    else:\n",
    "        return False\n",
    "    \n",
    "         "
   ]
  },
  {
   "cell_type": "code",
   "execution_count": 26,
   "id": "62e438d7",
   "metadata": {},
   "outputs": [
    {
     "name": "stdout",
     "output_type": "stream",
     "text": [
      "Do you want to keep playing?  Y OR Nhoude\n",
      "Sorry I dont understand, please choose Y or N \n",
      "Do you want to keep playing?  Y OR Nnottj\n",
      "Sorry I dont understand, please choose Y or N \n",
      "Do you want to keep playing?  Y OR NY\n"
     ]
    },
    {
     "data": {
      "text/plain": [
       "True"
      ]
     },
     "execution_count": 26,
     "metadata": {},
     "output_type": "execute_result"
    }
   ],
   "source": [
    "gameon_choice()"
   ]
  },
  {
   "cell_type": "code",
   "execution_count": 27,
   "id": "098ee261",
   "metadata": {},
   "outputs": [
    {
     "name": "stdout",
     "output_type": "stream",
     "text": [
      "Here is the current list\n",
      "[0, 1, 2]\n",
      "Pick a position (0,1,2): oo\n",
      "Sorry, Invalid Choice \n",
      "Pick a position (0,1,2): ok\n",
      "Sorry, Invalid Choice \n",
      "Pick a position (0,1,2): 8\n",
      "Sorry, Invalid Choice \n",
      "Pick a position (0,1,2): 2\n",
      "Type  a string to place at position: willywanker\n",
      "Do you want to keep playing?  Y OR Nhouse\n",
      "Sorry I dont understand, please choose Y or N \n",
      "Do you want to keep playing?  Y OR Ny\n",
      "Sorry I dont understand, please choose Y or N \n",
      "Do you want to keep playing?  Y OR NY\n",
      "Here is the current list\n",
      "[0, 1, 'willywanker']\n",
      "Pick a position (0,1,2): 1\n",
      "Type  a string to place at position: blackyoureye\n",
      "Do you want to keep playing?  Y OR NN\n"
     ]
    }
   ],
   "source": [
    "gameon = True\n",
    "game_list =[0,1,2]\n",
    "while gameon == True:\n",
    "    display_game(game_list)\n",
    "    position = position_choice()\n",
    "    game_list = replacement_choice(game_list,position)\n",
    "    gameon = gameon_choice()"
   ]
  },
  {
   "cell_type": "code",
   "execution_count": 95,
   "id": "638d8510",
   "metadata": {},
   "outputs": [],
   "source": [
    "########\n",
    "from IPython.display import clear_output\n",
    "clear_output()"
   ]
  },
  {
   "cell_type": "code",
   "execution_count": 96,
   "id": "c55ab0f6",
   "metadata": {},
   "outputs": [],
   "source": [
    "def display_board(board):\n",
    "    clear_output()\n",
    "    print(board[7]+'|'+board[8]+'|'+board[9])\n",
    "    print(board[4]+'|'+board[5]+'|'+board[6])\n",
    "    print(board[1]+'|'+board[2]+'|'+board[3])"
   ]
  },
  {
   "cell_type": "code",
   "execution_count": 97,
   "id": "6d7bf35b",
   "metadata": {},
   "outputs": [
    {
     "name": "stdout",
     "output_type": "stream",
     "text": [
      "X|O|X\n",
      "O|X|O\n",
      "X|O|X\n"
     ]
    }
   ],
   "source": [
    "testboard = ['#','X','O','X','O','X','O','X','O','X']\n",
    "display_board(testboard)\n",
    "display_board(testboard)"
   ]
  },
  {
   "cell_type": "code",
   "execution_count": 98,
   "id": "54a43f77",
   "metadata": {},
   "outputs": [],
   "source": [
    "def player_input():\n",
    "    '''\n",
    "    OUTPUT = (Player 1 marker, Player 2 marker)\n",
    "    '''\n",
    "    \n",
    "    marker =''\n",
    "    \n",
    "    while marker!= \"X\" and marker != 'O':\n",
    "        marker = input('Player1: Choose X or O: ').upper()\n",
    "        \n",
    "    if marker == 'X':\n",
    "        \n",
    "        return('X','O')\n",
    "    else:\n",
    "        return ('O','X')"
   ]
  },
  {
   "cell_type": "code",
   "execution_count": 99,
   "id": "bbab141a",
   "metadata": {},
   "outputs": [
    {
     "name": "stdout",
     "output_type": "stream",
     "text": [
      "Player1: Choose X or O: x\n"
     ]
    }
   ],
   "source": [
    "player1_marker, player2_marker = player_input()"
   ]
  },
  {
   "cell_type": "code",
   "execution_count": 100,
   "id": "a07c1a28",
   "metadata": {},
   "outputs": [],
   "source": [
    "def place_marker(board, marker, position):\n",
    "    board[position] = marker"
   ]
  },
  {
   "cell_type": "code",
   "execution_count": 101,
   "id": "17d1c17b",
   "metadata": {},
   "outputs": [
    {
     "data": {
      "text/plain": [
       "['#', 'X', 'O', 'X', 'O', 'X', 'O', 'X', 'O', 'X']"
      ]
     },
     "execution_count": 101,
     "metadata": {},
     "output_type": "execute_result"
    }
   ],
   "source": [
    "testboard "
   ]
  },
  {
   "cell_type": "code",
   "execution_count": 102,
   "id": "5b6c8fe8",
   "metadata": {},
   "outputs": [
    {
     "name": "stdout",
     "output_type": "stream",
     "text": [
      "X|O|X\n",
      "O|O|O\n",
      "X|O|X\n"
     ]
    }
   ],
   "source": [
    "place_marker(testboard,'O',5)\n",
    "display_board(testboard)\n"
   ]
  },
  {
   "cell_type": "code",
   "execution_count": 103,
   "id": "f2e5f5ab",
   "metadata": {},
   "outputs": [],
   "source": [
    "def win_check(board,mark):\n",
    "    #checking rows\n",
    "    \n",
    "    return((board[1] == mark and board[2] == mark and board[3] == mark) or \n",
    "    (board[4] == mark and board[5] == mark and board[6] == mark) or\n",
    "    (board[7] == mark and board[8] == mark and board[9] == mark) or\n",
    "    (board[1] == mark and board[4] == mark and board[7] == mark) or\n",
    "    (board[2] == mark and board[5] == mark and board[8] == mark) or\n",
    "    (board[3] == mark and board[6] == mark and board[9] == mark) or\n",
    "    (board[1] == mark and board[5] == mark and board[9] == mark) or\n",
    "    (board[3] == mark and board[5] == mark and board[7] == mark))\n",
    "    "
   ]
  },
  {
   "cell_type": "code",
   "execution_count": 104,
   "id": "7e36f937",
   "metadata": {},
   "outputs": [
    {
     "data": {
      "text/plain": [
       "True"
      ]
     },
     "execution_count": 104,
     "metadata": {},
     "output_type": "execute_result"
    }
   ],
   "source": [
    "win_check(testboard,'O')"
   ]
  },
  {
   "cell_type": "code",
   "execution_count": 105,
   "id": "2f4d2423",
   "metadata": {},
   "outputs": [],
   "source": [
    "import random\n",
    "def choose_first():\n",
    "    \n",
    "    flip = random.randint(0,1)\n",
    "    \n",
    "    if flip == 0:\n",
    "        return 'Player 1'\n",
    "    else:\n",
    "        return 'Player 2'"
   ]
  },
  {
   "cell_type": "code",
   "execution_count": 106,
   "id": "2d700ebd",
   "metadata": {},
   "outputs": [],
   "source": [
    "def space_check(board,position):\n",
    "    return board[position] == ' '"
   ]
  },
  {
   "cell_type": "code",
   "execution_count": 107,
   "id": "4068988b",
   "metadata": {},
   "outputs": [],
   "source": [
    "def fullboard_check(board):\n",
    "    for i in range(1,10):\n",
    "        if space_check(board,i):\n",
    "            return False \n",
    "        #board is full return true\n",
    "    return True"
   ]
  },
  {
   "cell_type": "code",
   "execution_count": 108,
   "id": "656de0d8",
   "metadata": {},
   "outputs": [],
   "source": [
    "def player_choice(board):\n",
    "    position = 0\n",
    "    \n",
    "    while position not in [1,2,3,4,5,6,7,8,9] or not space_check(board,position):\n",
    "        position = int(input('Choose a position: (1-9 )'))\n",
    "        \n",
    "        \n",
    "    return position"
   ]
  },
  {
   "cell_type": "code",
   "execution_count": 109,
   "id": "5d3db2d1",
   "metadata": {},
   "outputs": [],
   "source": [
    "def replay():\n",
    "    \n",
    "    \n",
    "    return input('Do you want to play again? Enter Yes or No: ').lower().startswith('y')"
   ]
  },
  {
   "cell_type": "code",
   "execution_count": 110,
   "id": "4213681c",
   "metadata": {},
   "outputs": [
    {
     "name": "stdout",
     "output_type": "stream",
     "text": [
      "O| |X\n",
      " |O|X\n",
      " |O|X\n",
      "Player 2 has won!!\n",
      "Do you want to play again? Enter Yes or No: Y\n",
      "Player1: Choose X or O: o\n",
      "Player 2 will go first\n",
      "Ready to play? y or n?n\n",
      "Do you want to play again? Enter Yes or No: n\n"
     ]
    }
   ],
   "source": [
    "print('Welcome to Tic Tac Toe!')\n",
    "\n",
    "while True:  \n",
    "    \n",
    "    \n",
    "    the_board = [' ']*10\n",
    "    player1_marker, player2_marker = player_input()\n",
    "    \n",
    "    turn = choose_first()\n",
    "    print(turn + ' will go first')\n",
    "    \n",
    "    play_game =input('Ready to play? y or n?')\n",
    "    \n",
    "    if play_game =='y':\n",
    "        game_on = True\n",
    "    else:\n",
    "        game_on = False\n",
    "        \n",
    "    while game_on:\n",
    "        if turn == 'Player 1':\n",
    "            \n",
    "            display_board(the_board  )\n",
    "            \n",
    "            position = player_choice(the_board)\n",
    "            \n",
    "            place_marker(the_board,player1_marker,position)\n",
    "            \n",
    "            if win_check(the_board,player1_marker):\n",
    "                display_board(the_board)\n",
    "                \n",
    "                print('Player 1 has won!!')\n",
    "                game_on = False\n",
    "            else:\n",
    "                if fullboard_check(the_board):\n",
    "                    display_board(the_board)\n",
    "                    print('Tie Game')\n",
    "                    game_on = False\n",
    "                    \n",
    "                else:\n",
    "                    turn ='Player 2'\n",
    "                    \n",
    "        else:\n",
    "            display_board(the_board  )\n",
    "            \n",
    "            position = player_choice(the_board)\n",
    "            \n",
    "            place_marker(the_board,player2_marker,position)\n",
    "            \n",
    "            if win_check(the_board,player2_marker):\n",
    "                display_board(the_board)\n",
    "                \n",
    "                print('Player 2 has won!!')\n",
    "                game_on = False\n",
    "            else:\n",
    "                if fullboard_check(the_board):\n",
    "                    display_board(the_board)\n",
    "                    print('Tie Game')\n",
    "                    game_on = False\n",
    "                    \n",
    "                else:\n",
    "                    turn ='Player 1'\n",
    "                    \n",
    "    if not replay():\n",
    "        break"
   ]
  },
  {
   "cell_type": "code",
   "execution_count": 54,
   "id": "758b262e",
   "metadata": {},
   "outputs": [],
   "source": [
    "#OOP\n",
    "\n",
    "\n",
    "    "
   ]
  },
  {
   "cell_type": "code",
   "execution_count": 55,
   "id": "b106aea6",
   "metadata": {},
   "outputs": [],
   "source": [
    "mydog = dog(breed = 'German sherperd')"
   ]
  },
  {
   "cell_type": "code",
   "execution_count": 57,
   "id": "d40a399c",
   "metadata": {},
   "outputs": [
    {
     "data": {
      "text/plain": [
       "'German sherperd'"
      ]
     },
     "execution_count": 57,
     "metadata": {},
     "output_type": "execute_result"
    }
   ],
   "source": [
    "mydog.breed"
   ]
  },
  {
   "cell_type": "code",
   "execution_count": 56,
   "id": "f9d085fd",
   "metadata": {},
   "outputs": [
    {
     "name": "stdout",
     "output_type": "stream",
     "text": [
      "<class '__main__.dog'>\n"
     ]
    }
   ],
   "source": [
    "################ BANK BANK"
   ]
  },
  {
   "cell_type": "code",
   "execution_count": 6,
   "id": "c8bf0172",
   "metadata": {},
   "outputs": [],
   "source": [
    "class Account:\n",
    "    def __init__(self, owner, balance = 0):\n",
    "        self.owner = owner \n",
    "        self.balance = balance\n",
    "        \n",
    "    def deposit(self,dept_amt):\n",
    "        \n",
    "        self.balance = self.balance + dept_amt\n",
    "        print(f'Added {dept_amt} to the balance')\n",
    "        \n",
    "    def withdrawal(self,wd_amt):\n",
    "        if self.balance >= wd_amt:\n",
    "            self.balance = self.balance - wd_amt\n",
    "            print(f\"Your withdrwawal of {wd_amt} was accepted\")\n",
    "            \n",
    "        else:\n",
    "            print(f\"Sorry not enough funds you have a balace of  {self.balance}\")\n",
    "    \n",
    "    \n",
    "    def __str__(self):\n",
    "        return f\"Owner: {self.owner}\\n Balance: {self.balance}\"\n",
    "        "
   ]
  },
  {
   "cell_type": "code",
   "execution_count": 8,
   "id": "bd3ccd10",
   "metadata": {},
   "outputs": [],
   "source": [
    "acc = Account(\"juliet\", 100)"
   ]
  },
  {
   "cell_type": "code",
   "execution_count": null,
   "id": "41a230eb",
   "metadata": {},
   "outputs": [],
   "source": [
    "#### ERRORS AND EXCEPTION HANDLING"
   ]
  },
  {
   "cell_type": "code",
   "execution_count": 14,
   "id": "c9d7300e",
   "metadata": {},
   "outputs": [
    {
     "name": "stdout",
     "output_type": "stream",
     "text": [
      "Hey you have an OS Error\n",
      "I always run\n"
     ]
    }
   ],
   "source": [
    "try:\n",
    "    f = open(\"Testfile\",'r')\n",
    "    f.write(\"This is just a test text\")\n",
    "    \n",
    "except TypeError:\n",
    "    print(\"There was a type error!\")\n",
    "except OSError:\n",
    "    print(\"Hey you have an OS Error\")\n",
    "finally:\n",
    "    print(\"I always run\")\n",
    "    \n",
    "    \n",
    "    "
   ]
  },
  {
   "cell_type": "code",
   "execution_count": 19,
   "id": "451548ef",
   "metadata": {},
   "outputs": [],
   "source": [
    "def ask_for_int():\n",
    "     \n",
    "    while True:\n",
    "        try:\n",
    "            result = int(input(\"Enter a number \"))\n",
    "\n",
    "        except:\n",
    "            print(\"Sorry thats not a number\")\n",
    "            \n",
    "            \n",
    "        else:\n",
    "            print(\"Yes thank you\")\n",
    "            break\n",
    "\n",
    "        finally:\n",
    "            print(\"Finally always run \\n\")"
   ]
  },
  {
   "cell_type": "code",
   "execution_count": 20,
   "id": "551d169b",
   "metadata": {},
   "outputs": [
    {
     "name": "stdout",
     "output_type": "stream",
     "text": [
      "Enter a number one\n",
      "Sorry thats not a number\n",
      "Finally always run \n",
      "\n",
      "Enter a number one\n",
      "Sorry thats not a number\n",
      "Finally always run \n",
      "\n",
      "Enter a number 2\n",
      "Yes thank you\n",
      "Finally always run \n",
      "\n"
     ]
    }
   ],
   "source": [
    "ask_for_int()"
   ]
  },
  {
   "cell_type": "code",
   "execution_count": 21,
   "id": "669c3cec",
   "metadata": {},
   "outputs": [],
   "source": [
    "def ask():\n",
    "    while True:\n",
    "        try:\n",
    "            sq = int(input(\"Input an integer \"))\n",
    "            result = sq**2\n",
    "        except:\n",
    "            print(\"An error occured! Please try again!\")\n",
    "            \n",
    "        else:\n",
    "            print(f\"Thank you, your number is :  {result}\")\n",
    "            break"
   ]
  },
  {
   "cell_type": "code",
   "execution_count": 22,
   "id": "93e9b072",
   "metadata": {},
   "outputs": [
    {
     "name": "stdout",
     "output_type": "stream",
     "text": [
      "Input an integer 4\n",
      "Thank you, your number is :  16\n"
     ]
    }
   ],
   "source": [
    "ask()"
   ]
  },
  {
   "cell_type": "code",
   "execution_count": 23,
   "id": "e9ed017f",
   "metadata": {},
   "outputs": [
    {
     "name": "stdout",
     "output_type": "stream",
     "text": [
      "12\n"
     ]
    }
   ],
   "source": [
    "f = 2\n",
    "s = 6\n",
    "print(f*s)"
   ]
  },
  {
   "cell_type": "code",
   "execution_count": 278,
   "id": "b0c773f9",
   "metadata": {},
   "outputs": [],
   "source": [
    "#### GAME OF WAR######"
   ]
  },
  {
   "cell_type": "code",
   "execution_count": 350,
   "id": "e870243c",
   "metadata": {},
   "outputs": [],
   "source": [
    "import random\n",
    "suits = ('Hearts', 'Diamonds', 'Spades', 'Clubs')\n",
    "\n",
    "ranks = ('Two', 'Three', 'Four', 'Five', 'Six', 'Seven', 'Eight', 'Nine', 'Ten', 'Jack', 'Queen', 'King', 'Ace')\n",
    "\n",
    "\n",
    "values = {'Two':2, 'Three':3, 'Four':4, 'Five':5, 'Six':6, 'Seven':7, 'Eight':8, \n",
    "            'Nine':9, 'Ten':10, 'Jack':11, 'Queen':12, 'King':13, 'Ace':14}"
   ]
  },
  {
   "cell_type": "code",
   "execution_count": 351,
   "id": "0253a6fd",
   "metadata": {},
   "outputs": [],
   "source": [
    "class Card:\n",
    "    def __init__(self,suit,rank):\n",
    "        self.suit = suit \n",
    "        self.rank = rank\n",
    "        self.value = values[rank]\n",
    "        \n",
    "    def __str__(self):\n",
    "        return self.rank + \" of \"+ self.suit"
   ]
  },
  {
   "cell_type": "code",
   "execution_count": 352,
   "id": "0cb802fb",
   "metadata": {},
   "outputs": [],
   "source": [
    "two_hearts = Card(\"Hearts\" , \"Four\")\n",
    "three_clubs = Card(\"Clubs\" , \"Three\")"
   ]
  },
  {
   "cell_type": "code",
   "execution_count": 353,
   "id": "a24d10cb",
   "metadata": {},
   "outputs": [
    {
     "data": {
      "text/plain": [
       "False"
      ]
     },
     "execution_count": 353,
     "metadata": {},
     "output_type": "execute_result"
    }
   ],
   "source": [
    "two_hearts.value < three_clubs.value"
   ]
  },
  {
   "cell_type": "code",
   "execution_count": 354,
   "id": "06f57dcb",
   "metadata": {},
   "outputs": [
    {
     "data": {
      "text/plain": [
       "'Hearts'"
      ]
     },
     "execution_count": 354,
     "metadata": {},
     "output_type": "execute_result"
    }
   ],
   "source": [
    "two_hearts.suit"
   ]
  },
  {
   "cell_type": "code",
   "execution_count": null,
   "id": "dcece5e6",
   "metadata": {},
   "outputs": [],
   "source": []
  },
  {
   "cell_type": "code",
   "execution_count": null,
   "id": "a23ca7ce",
   "metadata": {},
   "outputs": [],
   "source": []
  },
  {
   "cell_type": "code",
   "execution_count": 355,
   "id": "54fa69ed",
   "metadata": {},
   "outputs": [],
   "source": [
    "class Deck():\n",
    "    \n",
    "    def __init__(self):\n",
    "        \n",
    "        self.allcards =  []\n",
    "        \n",
    "        for suit in suits:\n",
    "            for rank in ranks:\n",
    "                created_card = Card(suit, rank)\n",
    "                \n",
    "                self.allcards.append(created_card)\n",
    "                \n",
    "    def shuffle(self):\n",
    "         random.shuffle(self.allcards)\n",
    "            \n",
    "            \n",
    "    def deal_one(self):\n",
    "        return self.allcards.pop()\n",
    "        "
   ]
  },
  {
   "cell_type": "code",
   "execution_count": 356,
   "id": "41317a9d",
   "metadata": {},
   "outputs": [],
   "source": [
    "newd = Deck()"
   ]
  },
  {
   "cell_type": "code",
   "execution_count": 357,
   "id": "5ed8f207",
   "metadata": {},
   "outputs": [],
   "source": [
    "newd.shuffle()\n",
    "mycard = newd.deal_one()"
   ]
  },
  {
   "cell_type": "code",
   "execution_count": 358,
   "id": "3064c473",
   "metadata": {},
   "outputs": [
    {
     "name": "stdout",
     "output_type": "stream",
     "text": [
      "Ten of Clubs\n"
     ]
    }
   ],
   "source": [
    "print(mycard)"
   ]
  },
  {
   "cell_type": "code",
   "execution_count": 359,
   "id": "ae18fae8",
   "metadata": {},
   "outputs": [
    {
     "data": {
      "text/plain": [
       "51"
      ]
     },
     "execution_count": 359,
     "metadata": {},
     "output_type": "execute_result"
    }
   ],
   "source": [
    "len(newd.allcards)"
   ]
  },
  {
   "cell_type": "code",
   "execution_count": 360,
   "id": "023cacbf",
   "metadata": {},
   "outputs": [],
   "source": [
    "class Player:\n",
    "    \n",
    "    def __init__(self, name):\n",
    "        self.name = name \n",
    "        self.allcards = []\n",
    "        \n",
    "    def add_one(self, newcard):\n",
    "        if type(newcard) == type([]):\n",
    "            self.allcards.extend(newcard)\n",
    "            \n",
    "        else:\n",
    "            self.allcards.append(newcard)\n",
    "            \n",
    "    def remove_one(self):\n",
    "        return self.allcards.pop(0)\n",
    "    \n",
    "    def __str__(self):\n",
    "        return f'{self.name} has only {len(self.allcards)} cards left'"
   ]
  },
  {
   "cell_type": "code",
   "execution_count": 361,
   "id": "69a484a3",
   "metadata": {},
   "outputs": [],
   "source": [
    "newplayer = Player(\"Daniel\")"
   ]
  },
  {
   "cell_type": "code",
   "execution_count": 362,
   "id": "6ffd27d2",
   "metadata": {},
   "outputs": [
    {
     "name": "stdout",
     "output_type": "stream",
     "text": [
      "Daniel has only 0 cards left\n"
     ]
    }
   ],
   "source": [
    "print(newplayer)"
   ]
  },
  {
   "cell_type": "code",
   "execution_count": 363,
   "id": "9bd54645",
   "metadata": {},
   "outputs": [],
   "source": [
    "newplayer.add_one(mycard)"
   ]
  },
  {
   "cell_type": "code",
   "execution_count": 364,
   "id": "fca4db22",
   "metadata": {},
   "outputs": [
    {
     "name": "stdout",
     "output_type": "stream",
     "text": [
      "Ten of Clubs\n"
     ]
    }
   ],
   "source": [
    "print(newplayer.allcards[0])"
   ]
  },
  {
   "cell_type": "code",
   "execution_count": 365,
   "id": "c882645a",
   "metadata": {},
   "outputs": [],
   "source": [
    "newplayer.add_one([mycard, mycard,mycard])"
   ]
  },
  {
   "cell_type": "code",
   "execution_count": 366,
   "id": "a45ee475",
   "metadata": {},
   "outputs": [
    {
     "data": {
      "text/plain": [
       "<__main__.Card at 0x10bec1ca0>"
      ]
     },
     "execution_count": 366,
     "metadata": {},
     "output_type": "execute_result"
    }
   ],
   "source": [
    "newplayer.remove_one()"
   ]
  },
  {
   "cell_type": "code",
   "execution_count": 367,
   "id": "7db4d2f7",
   "metadata": {},
   "outputs": [
    {
     "data": {
      "text/plain": [
       "<__main__.Card at 0x10bec1ca0>"
      ]
     },
     "execution_count": 367,
     "metadata": {},
     "output_type": "execute_result"
    }
   ],
   "source": [
    "newplayer.remove_one()"
   ]
  },
  {
   "cell_type": "code",
   "execution_count": 368,
   "id": "f25c3390",
   "metadata": {},
   "outputs": [
    {
     "name": "stdout",
     "output_type": "stream",
     "text": [
      "Daniel has only 2 cards left\n"
     ]
    }
   ],
   "source": [
    "print(newplayer)"
   ]
  },
  {
   "cell_type": "code",
   "execution_count": 406,
   "id": "f0ad24e4",
   "metadata": {},
   "outputs": [],
   "source": [
    "##Game setup\n",
    "\n",
    "player_one = Player(\"One\")\n",
    "player_two = Player(\"Two\")\n",
    "\n",
    "newdeck = Deck()\n",
    "newdeck.shuffle()\n",
    "\n",
    "for cd in range(26):\n",
    "    player_one.add_one(newdeck.deal_one())\n",
    "    player_two.add_one(newdeck.deal_one())"
   ]
  },
  {
   "cell_type": "code",
   "execution_count": null,
   "id": "81d20c83",
   "metadata": {},
   "outputs": [],
   "source": []
  },
  {
   "cell_type": "code",
   "execution_count": 410,
   "id": "e827b987",
   "metadata": {},
   "outputs": [
    {
     "name": "stdout",
     "output_type": "stream",
     "text": [
      "Round 1\n",
      "Player Two, out of cards!! Player one wins\n"
     ]
    }
   ],
   "source": [
    "game_on = True\n",
    "rounds = 0\n",
    "while game_on:\n",
    "    \n",
    "    rounds += 1\n",
    "    print(f\"Round {rounds}\")\n",
    "    \n",
    "    \n",
    "    if len(player_one.allcards) == 0:\n",
    "        \n",
    "        print(\"Player one, out of cards!! Player two wins\")\n",
    "        game_on = False\n",
    "        break\n",
    "        \n",
    "    if len(player_two.allcards) == 0:\n",
    "        print(\"Player Two, out of cards!! Player one wins\")\n",
    "        game_on = False\n",
    "        break\n",
    "        \n",
    "        \n",
    "    player_onecards = []\n",
    "    player_onecards.append(player_one.remove_one())\n",
    "    \n",
    "    \n",
    "    player_twocards = []\n",
    "    player_twocards.append(player_two.remove_one())\n",
    "    \n",
    "    #while at war\n",
    "    at_war = True\n",
    "    \n",
    "    while at_war:\n",
    "        \n",
    "        if player_onecards[-1].value > player_twocards[-1].value:\n",
    "            player_one.add_one(player_twocards)\n",
    "            player_one.add_one(player_onecards)\n",
    "            \n",
    "            at_war = False\n",
    "            \n",
    "        elif player_onecards[-1].value < player_twocards[-1].value:\n",
    "                player_two.add_one(player_onecards)\n",
    "                player_two.add_one(player_twocards)\n",
    "                \n",
    "                at_war = False\n",
    "                \n",
    "                \n",
    "        else:\n",
    "            print(\"War\")\n",
    "            \n",
    "            if len(player_one.allcards)< 5:\n",
    "                print(\"Player one is unable to declare war\")\n",
    "                print(\"Player two WINS!!\")\n",
    "                game_on = False\n",
    "                break\n",
    "                \n",
    "            elif len(player_two.allcards)< 5:\n",
    "                \n",
    "                print(\"Player two is unable to declare war\")\n",
    "                print(\"Player ONE WINS!!\")\n",
    "                game_on = False\n",
    "                break\n",
    "                \n",
    "                \n",
    "            else:\n",
    "                for num in range(5):\n",
    "                    player_onecards.append(player_one.remove_one())\n",
    "                    player_twocards.append(player_two.remove_one())\n",
    "                \n",
    "                \n",
    "                \n",
    "                \n",
    "                \n",
    "                \n",
    "                \n",
    "                \n",
    "                \n",
    "                "
   ]
  },
  {
   "cell_type": "code",
   "execution_count": 408,
   "id": "dbab45ad",
   "metadata": {},
   "outputs": [
    {
     "data": {
      "text/plain": [
       "52"
      ]
     },
     "execution_count": 408,
     "metadata": {},
     "output_type": "execute_result"
    }
   ],
   "source": [
    "len(player_one.allcards)"
   ]
  },
  {
   "cell_type": "code",
   "execution_count": null,
   "id": "7104e3a0",
   "metadata": {},
   "outputs": [],
   "source": []
  },
  {
   "cell_type": "code",
   "execution_count": null,
   "id": "7c4d6667",
   "metadata": {},
   "outputs": [],
   "source": [
    "### BLACK JACK####"
   ]
  },
  {
   "cell_type": "code",
   "execution_count": null,
   "id": "ac01c278",
   "metadata": {},
   "outputs": [],
   "source": []
  },
  {
   "cell_type": "code",
   "execution_count": null,
   "id": "839f5d38",
   "metadata": {},
   "outputs": [],
   "source": []
  },
  {
   "cell_type": "code",
   "execution_count": null,
   "id": "75178418",
   "metadata": {},
   "outputs": [],
   "source": []
  },
  {
   "cell_type": "code",
   "execution_count": null,
   "id": "14f0607c",
   "metadata": {},
   "outputs": [],
   "source": []
  },
  {
   "cell_type": "code",
   "execution_count": null,
   "id": "6150e7e8",
   "metadata": {},
   "outputs": [],
   "source": []
  },
  {
   "cell_type": "code",
   "execution_count": null,
   "id": "40339827",
   "metadata": {},
   "outputs": [],
   "source": []
  },
  {
   "cell_type": "code",
   "execution_count": null,
   "id": "1d709874",
   "metadata": {},
   "outputs": [],
   "source": []
  },
  {
   "cell_type": "code",
   "execution_count": null,
   "id": "11223d2d",
   "metadata": {},
   "outputs": [],
   "source": []
  },
  {
   "cell_type": "code",
   "execution_count": null,
   "id": "a05fabf7",
   "metadata": {},
   "outputs": [],
   "source": []
  },
  {
   "cell_type": "code",
   "execution_count": null,
   "id": "4bb9ed78",
   "metadata": {},
   "outputs": [],
   "source": []
  },
  {
   "cell_type": "code",
   "execution_count": null,
   "id": "9aa9e5d6",
   "metadata": {},
   "outputs": [],
   "source": []
  },
  {
   "cell_type": "code",
   "execution_count": null,
   "id": "d52ec279",
   "metadata": {},
   "outputs": [],
   "source": []
  },
  {
   "cell_type": "code",
   "execution_count": null,
   "id": "31c58d39",
   "metadata": {},
   "outputs": [],
   "source": []
  },
  {
   "cell_type": "code",
   "execution_count": null,
   "id": "ac55b2c2",
   "metadata": {},
   "outputs": [],
   "source": []
  },
  {
   "cell_type": "code",
   "execution_count": null,
   "id": "5f5bfd61",
   "metadata": {},
   "outputs": [],
   "source": []
  },
  {
   "cell_type": "code",
   "execution_count": null,
   "id": "3b826c42",
   "metadata": {},
   "outputs": [],
   "source": []
  },
  {
   "cell_type": "code",
   "execution_count": null,
   "id": "691415f3",
   "metadata": {},
   "outputs": [],
   "source": []
  },
  {
   "cell_type": "code",
   "execution_count": null,
   "id": "3cb614f7",
   "metadata": {},
   "outputs": [],
   "source": []
  },
  {
   "cell_type": "code",
   "execution_count": null,
   "id": "37934ef4",
   "metadata": {},
   "outputs": [],
   "source": []
  },
  {
   "cell_type": "code",
   "execution_count": null,
   "id": "76341ccb",
   "metadata": {},
   "outputs": [],
   "source": []
  },
  {
   "cell_type": "code",
   "execution_count": null,
   "id": "a36379e4",
   "metadata": {},
   "outputs": [],
   "source": []
  },
  {
   "cell_type": "code",
   "execution_count": null,
   "id": "3fdafab6",
   "metadata": {},
   "outputs": [],
   "source": []
  },
  {
   "cell_type": "code",
   "execution_count": null,
   "id": "5c53cbb2",
   "metadata": {},
   "outputs": [],
   "source": []
  },
  {
   "cell_type": "code",
   "execution_count": null,
   "id": "21a801bf",
   "metadata": {},
   "outputs": [],
   "source": []
  },
  {
   "cell_type": "code",
   "execution_count": null,
   "id": "e5d70984",
   "metadata": {},
   "outputs": [],
   "source": []
  },
  {
   "cell_type": "code",
   "execution_count": null,
   "id": "4feca70f",
   "metadata": {},
   "outputs": [],
   "source": []
  },
  {
   "cell_type": "code",
   "execution_count": null,
   "id": "206f3e7c",
   "metadata": {},
   "outputs": [],
   "source": []
  },
  {
   "cell_type": "code",
   "execution_count": null,
   "id": "2a447662",
   "metadata": {},
   "outputs": [],
   "source": []
  },
  {
   "cell_type": "code",
   "execution_count": null,
   "id": "6be89409",
   "metadata": {},
   "outputs": [],
   "source": []
  },
  {
   "cell_type": "code",
   "execution_count": null,
   "id": "4f5493e9",
   "metadata": {},
   "outputs": [],
   "source": []
  }
 ],
 "metadata": {
  "kernelspec": {
   "display_name": "Python 3 (ipykernel)",
   "language": "python",
   "name": "python3"
  },
  "language_info": {
   "codemirror_mode": {
    "name": "ipython",
    "version": 3
   },
   "file_extension": ".py",
   "mimetype": "text/x-python",
   "name": "python",
   "nbconvert_exporter": "python",
   "pygments_lexer": "ipython3",
   "version": "3.9.7"
  }
 },
 "nbformat": 4,
 "nbformat_minor": 5
}
