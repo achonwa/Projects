{
 "cells": [
  {
   "cell_type": "code",
   "execution_count": 1,
   "id": "c3f29eab",
   "metadata": {},
   "outputs": [
    {
     "name": "stdout",
     "output_type": "stream",
     "text": [
      "[1, 2, 3, 4, 20, 6, 19, 21]\n"
     ]
    }
   ],
   "source": [
    "listxx = [1, 2,3, 4,20]\n",
    "lll= [6, 19, 21]\n",
    "result = listxx + lll\n",
    "print (result)"
   ]
  },
  {
   "cell_type": "code",
   "execution_count": 2,
   "id": "201a1c44",
   "metadata": {},
   "outputs": [],
   "source": [
    "def find_max(nums):\n",
    "    max_num = float(\"-inf\")\n",
    "    for num in nums:\n",
    "        if num > max_num:\n",
    "            max_num = num\n",
    "    return max_num\n"
   ]
  },
  {
   "cell_type": "code",
   "execution_count": 3,
   "id": "7ba052ce",
   "metadata": {},
   "outputs": [
    {
     "data": {
      "text/plain": [
       "20"
      ]
     },
     "execution_count": 3,
     "metadata": {},
     "output_type": "execute_result"
    }
   ],
   "source": [
    "find_max(listxx)"
   ]
  },
  {
   "cell_type": "code",
   "execution_count": 4,
   "id": "21e51380",
   "metadata": {},
   "outputs": [
    {
     "name": "stdout",
     "output_type": "stream",
     "text": [
      " welcome to Ty\n"
     ]
    }
   ],
   "source": [
    "t = \" %(a)s %(b)s %(c)s\"\n",
    "print(t %dict(a='welcome', b = 'to', c='Ty'))"
   ]
  },
  {
   "cell_type": "code",
   "execution_count": 5,
   "id": "54ccc655",
   "metadata": {},
   "outputs": [
    {
     "name": "stdout",
     "output_type": "stream",
     "text": [
      "[2, 2]\n"
     ]
    }
   ],
   "source": [
    "x = [\"ab\" , \"cd\"]\n",
    "print(list(map(len,x)))"
   ]
  },
  {
   "cell_type": "code",
   "execution_count": 6,
   "id": "af50cf95",
   "metadata": {},
   "outputs": [
    {
     "name": "stdout",
     "output_type": "stream",
     "text": [
      "abcd\n"
     ]
    }
   ],
   "source": [
    "gh = \"abcd\"\n",
    "for i in range(len(gh)):\n",
    "    gh[i].upper()\n",
    "\n",
    "print(gh)\n"
   ]
  },
  {
   "cell_type": "code",
   "execution_count": 7,
   "id": "9238721b",
   "metadata": {},
   "outputs": [
    {
     "data": {
      "text/plain": [
       "'the h fhfu g hdhdu '"
      ]
     },
     "execution_count": 7,
     "metadata": {},
     "output_type": "execute_result"
    }
   ],
   "source": [
    "\"the {} fhfu {} hdhdu \".format('h','g')"
   ]
  },
  {
   "cell_type": "code",
   "execution_count": 8,
   "id": "656cdf65",
   "metadata": {},
   "outputs": [
    {
     "name": "stdout",
     "output_type": "stream",
     "text": [
      "Welcome to turing\n"
     ]
    }
   ],
   "source": [
    "print(\"Welcome to TURING\".capitalize())"
   ]
  },
  {
   "cell_type": "code",
   "execution_count": 9,
   "id": "4e483d30",
   "metadata": {},
   "outputs": [
    {
     "name": "stdout",
     "output_type": "stream",
     "text": [
      "[1, 3, 6, 10]\n"
     ]
    }
   ],
   "source": [
    "list1=[1,2,3,4]\n",
    "b =[sum(list1[0:x+1]) for x in range(0,len(list1))]\n",
    "print(b)"
   ]
  },
  {
   "cell_type": "code",
   "execution_count": null,
   "id": "5f6c3209",
   "metadata": {},
   "outputs": [
    {
     "name": "stdout",
     "output_type": "stream",
     "text": [
      "['house', 'recon', 'veteu']\n"
     ]
    }
   ],
   "source": [
    "INPUTS =[\"house\", 'recon', 'veteu']\n",
    "print(INPUTS)\n",
    "for i in INPUTS:\n",
    "    INPUTS.append(i.upper())\n",
    "print(INPUTS)"
   ]
  },
  {
   "cell_type": "code",
   "execution_count": 6,
   "id": "d8e93429",
   "metadata": {},
   "outputs": [
    {
     "name": "stdout",
     "output_type": "stream",
     "text": [
      "[2, 4, 8, 16, 32]\n"
     ]
    }
   ],
   "source": [
    "l =[1,2,3,4,5]\n",
    "m = map(lambda x: 2**x, l)\n",
    "print(list(m))"
   ]
  },
  {
   "cell_type": "code",
   "execution_count": 8,
   "id": "8151a95e",
   "metadata": {},
   "outputs": [
    {
     "name": "stdout",
     "output_type": "stream",
     "text": [
      "False\n",
      "True\n"
     ]
    }
   ],
   "source": [
    "list1=[1,2,6,12]\n",
    "list2=[12,6,2,1]\n",
    "print(list1==list2)\n",
    "print(set(list1)== set(list2))"
   ]
  },
  {
   "cell_type": "code",
   "execution_count": 12,
   "id": "928a72ee",
   "metadata": {},
   "outputs": [],
   "source": [
    "def func1():\n",
    "    h=50\n",
    "    return h\n",
    "\n"
   ]
  },
  {
   "cell_type": "code",
   "execution_count": 13,
   "id": "49313161",
   "metadata": {},
   "outputs": [
    {
     "data": {
      "text/plain": [
       "50"
      ]
     },
     "execution_count": 13,
     "metadata": {},
     "output_type": "execute_result"
    }
   ],
   "source": [
    "func1()"
   ]
  },
  {
   "cell_type": "code",
   "execution_count": 14,
   "id": "32ee2f63",
   "metadata": {},
   "outputs": [
    {
     "ename": "NameError",
     "evalue": "name 'h' is not defined",
     "output_type": "error",
     "traceback": [
      "\u001b[0;31m---------------------------------------------------------------------------\u001b[0m",
      "\u001b[0;31mNameError\u001b[0m                                 Traceback (most recent call last)",
      "\u001b[0;32m/var/folders/ng/vn_j03mn59d8pwfpvfkjqv7m0000gn/T/ipykernel_889/259929948.py\u001b[0m in \u001b[0;36m<module>\u001b[0;34m\u001b[0m\n\u001b[0;32m----> 1\u001b[0;31m \u001b[0mprint\u001b[0m\u001b[0;34m(\u001b[0m\u001b[0mh\u001b[0m\u001b[0;34m)\u001b[0m\u001b[0;34m\u001b[0m\u001b[0;34m\u001b[0m\u001b[0m\n\u001b[0m",
      "\u001b[0;31mNameError\u001b[0m: name 'h' is not defined"
     ]
    }
   ],
   "source": [
    "print(h)"
   ]
  },
  {
   "cell_type": "code",
   "execution_count": 15,
   "id": "4797e4d4",
   "metadata": {},
   "outputs": [
    {
     "ename": "TypeError",
     "evalue": "'<' not supported between instances of 'complex' and 'int'",
     "output_type": "error",
     "traceback": [
      "\u001b[0;31m---------------------------------------------------------------------------\u001b[0m",
      "\u001b[0;31mTypeError\u001b[0m                                 Traceback (most recent call last)",
      "\u001b[0;32m/var/folders/ng/vn_j03mn59d8pwfpvfkjqv7m0000gn/T/ipykernel_889/36220310.py\u001b[0m in \u001b[0;36m<module>\u001b[0;34m\u001b[0m\n\u001b[1;32m      1\u001b[0m \u001b[0my\u001b[0m\u001b[0;34m=\u001b[0m \u001b[0;34m[\u001b[0m\u001b[0;36m2\u001b[0m\u001b[0;34m,\u001b[0m\u001b[0;36m5j\u001b[0m\u001b[0;34m,\u001b[0m\u001b[0;36m6\u001b[0m\u001b[0;34m]\u001b[0m\u001b[0;34m\u001b[0m\u001b[0;34m\u001b[0m\u001b[0m\n\u001b[0;32m----> 2\u001b[0;31m \u001b[0my\u001b[0m\u001b[0;34m.\u001b[0m\u001b[0msort\u001b[0m\u001b[0;34m(\u001b[0m\u001b[0;34m)\u001b[0m\u001b[0;34m\u001b[0m\u001b[0;34m\u001b[0m\u001b[0m\n\u001b[0m\u001b[1;32m      3\u001b[0m \u001b[0mprint\u001b[0m\u001b[0;34m(\u001b[0m\u001b[0my\u001b[0m\u001b[0;34m)\u001b[0m\u001b[0;34m\u001b[0m\u001b[0;34m\u001b[0m\u001b[0m\n",
      "\u001b[0;31mTypeError\u001b[0m: '<' not supported between instances of 'complex' and 'int'"
     ]
    }
   ],
   "source": [
    "y= [2,5j,6]\n",
    "y.sort()\n",
    "print(y)"
   ]
  },
  {
   "cell_type": "code",
   "execution_count": 16,
   "id": "6224daf3",
   "metadata": {},
   "outputs": [
    {
     "name": "stdout",
     "output_type": "stream",
     "text": [
      "{'san', 'p', 'q', 'a', 'c', 'b'}\n"
     ]
    }
   ],
   "source": [
    "z = set('abc')\n",
    "z.add('san')\n",
    "z.update(set([\"p\", \"q\"]))\n",
    "print(z)"
   ]
  },
  {
   "cell_type": "code",
   "execution_count": 18,
   "id": "c53410e0",
   "metadata": {},
   "outputs": [
    {
     "ename": "SyntaxError",
     "evalue": "invalid syntax (764845525.py, line 3)",
     "output_type": "error",
     "traceback": [
      "\u001b[0;36m  File \u001b[0;32m\"/var/folders/ng/vn_j03mn59d8pwfpvfkjqv7m0000gn/T/ipykernel_889/764845525.py\"\u001b[0;36m, line \u001b[0;32m3\u001b[0m\n\u001b[0;31m    i = i +\"Welcome to Turing\"return i\u001b[0m\n\u001b[0m                              ^\u001b[0m\n\u001b[0;31mSyntaxError\u001b[0m\u001b[0;31m:\u001b[0m invalid syntax\n"
     ]
    }
   ],
   "source": [
    "i = 'welcome'\n",
    "def welcome(i):\n",
    "    i = i +\"Welcome to Turing\"return i"
   ]
  },
  {
   "cell_type": "code",
   "execution_count": 19,
   "id": "5be55c7c",
   "metadata": {},
   "outputs": [],
   "source": [
    "data =[1,2,3]\n",
    "def incr(x):\n",
    "    return x +1"
   ]
  },
  {
   "cell_type": "code",
   "execution_count": 20,
   "id": "b45c599c",
   "metadata": {},
   "outputs": [
    {
     "name": "stdout",
     "output_type": "stream",
     "text": [
      "[2, 3, 4]\n"
     ]
    }
   ],
   "source": [
    "print(list(map(incr,data)))"
   ]
  },
  {
   "cell_type": "code",
   "execution_count": 21,
   "id": "6c8e54f4",
   "metadata": {},
   "outputs": [
    {
     "name": "stdout",
     "output_type": "stream",
     "text": [
      "['t', 'u', 'r', 'i', 'n', 'g']\n"
     ]
    }
   ],
   "source": [
    "print([i.lower() for i in \"TURING\"])"
   ]
  },
  {
   "cell_type": "code",
   "execution_count": null,
   "id": "688a709d",
   "metadata": {},
   "outputs": [],
   "source": [
    "print(2**(3**2), (2**3)**2, (2**3)**3)"
   ]
  },
  {
   "cell_type": "code",
   "execution_count": null,
   "id": "77f1f130",
   "metadata": {},
   "outputs": [],
   "source": [
    "x =\"abcdef\"\n",
    "\n"
   ]
  },
  {
   "cell_type": "code",
   "execution_count": 4,
   "id": "60a751a2",
   "metadata": {},
   "outputs": [],
   "source": [
    "example = [1 , 2, 3, 4,5]\n",
    "from random import shuffle\n"
   ]
  },
  {
   "cell_type": "code",
   "execution_count": 18,
   "id": "e58770bf",
   "metadata": {},
   "outputs": [],
   "source": [
    "mylist =[' ', 'O', ' ']"
   ]
  },
  {
   "cell_type": "code",
   "execution_count": 22,
   "id": "58e2692c",
   "metadata": {},
   "outputs": [],
   "source": [
    "def shuffle_list(mylist):\n",
    "    shuffle(mylist)\n",
    "    \n",
    "    return mylist\n",
    "    "
   ]
  },
  {
   "cell_type": "code",
   "execution_count": 23,
   "id": "8563951e",
   "metadata": {},
   "outputs": [
    {
     "data": {
      "text/plain": [
       "['O', ' ', ' ']"
      ]
     },
     "execution_count": 23,
     "metadata": {},
     "output_type": "execute_result"
    }
   ],
   "source": [
    "\n",
    "shuffle_list(mylist)"
   ]
  },
  {
   "cell_type": "code",
   "execution_count": 26,
   "id": "07cc3234",
   "metadata": {},
   "outputs": [],
   "source": [
    "def player_guess():\n",
    "    guess=\"\"\n",
    "    while guess not in ['0', '1', '2']:\n",
    "        guess = input('Pick a number, 0, 1, or 2 ')\n",
    "    \n",
    "    return int(guess)"
   ]
  },
  {
   "cell_type": "code",
   "execution_count": 27,
   "id": "9ede94fb",
   "metadata": {},
   "outputs": [
    {
     "name": "stdout",
     "output_type": "stream",
     "text": [
      "Pick a number, 0, 1, or 2 2\n"
     ]
    },
    {
     "data": {
      "text/plain": [
       "2"
      ]
     },
     "execution_count": 27,
     "metadata": {},
     "output_type": "execute_result"
    }
   ],
   "source": [
    "player_guess()"
   ]
  },
  {
   "cell_type": "code",
   "execution_count": 29,
   "id": "28915ef9",
   "metadata": {},
   "outputs": [],
   "source": [
    "def check_guess(mylist,guess):\n",
    "    if mylist[guess] == 'O':\n",
    "        print('CORRECT GUESS!')\n",
    "    else:\n",
    "        print(\"Wrong guess\")\n",
    "        print(mylist)"
   ]
  },
  {
   "cell_type": "code",
   "execution_count": 31,
   "id": "4f96a47a",
   "metadata": {},
   "outputs": [
    {
     "name": "stdout",
     "output_type": "stream",
     "text": [
      "Pick a number, 0, 1, or 2 2\n",
      "Wrong guess\n",
      "[' ', 'O', ' ']\n"
     ]
    }
   ],
   "source": [
    "mylist = [' ', 'O', ' ']\n",
    "\n",
    "mixedlist = shuffle_list(mylist)\n",
    "\n",
    "guess = player_guess()\n",
    "\n",
    "check_guess(mixedlist,guess)"
   ]
  },
  {
   "cell_type": "code",
   "execution_count": 1,
   "id": "51bf5591",
   "metadata": {},
   "outputs": [],
   "source": [
    "#MAP"
   ]
  },
  {
   "cell_type": "code",
   "execution_count": 2,
   "id": "c63b8b3d",
   "metadata": {},
   "outputs": [],
   "source": [
    "def square(num):\n",
    "    return num**2"
   ]
  },
  {
   "cell_type": "code",
   "execution_count": 6,
   "id": "3a2dc756",
   "metadata": {},
   "outputs": [],
   "source": [
    "my_nums =[1,2,3,4,5]"
   ]
  },
  {
   "cell_type": "code",
   "execution_count": 7,
   "id": "0d537e2e",
   "metadata": {},
   "outputs": [],
   "source": [
    " map(square,my_nums) "
   ]
  },
  {
   "cell_type": "code",
   "execution_count": 9,
   "id": "58c0e24b",
   "metadata": {},
   "outputs": [
    {
     "name": "stdout",
     "output_type": "stream",
     "text": [
      "1\n",
      "4\n",
      "9\n",
      "16\n",
      "25\n"
     ]
    }
   ],
   "source": [
    "for i in map(square,my_nums):\n",
    "    print(i)"
   ]
  },
  {
   "cell_type": "code",
   "execution_count": 10,
   "id": "7993360b",
   "metadata": {},
   "outputs": [
    {
     "data": {
      "text/plain": [
       "[1, 4, 9, 16, 25]"
      ]
     },
     "execution_count": 10,
     "metadata": {},
     "output_type": "execute_result"
    }
   ],
   "source": [
    "# or\n",
    "list(map(square,my_nums))"
   ]
  },
  {
   "cell_type": "code",
   "execution_count": 11,
   "id": "7e90fd6a",
   "metadata": {},
   "outputs": [],
   "source": [
    " def splicer(mystring):\n",
    "        if len(mystring)%2 == 0:\n",
    "            return \"EVEN\"\n",
    "        else:\n",
    "            return mystring[0]"
   ]
  },
  {
   "cell_type": "code",
   "execution_count": 16,
   "id": "da9213c0",
   "metadata": {},
   "outputs": [],
   "source": [
    "names =['daniel', 'Andy', 'Chioma']"
   ]
  },
  {
   "cell_type": "code",
   "execution_count": 17,
   "id": "0a3aedc3",
   "metadata": {},
   "outputs": [
    {
     "data": {
      "text/plain": [
       "['EVEN', 'EVEN', 'EVEN']"
      ]
     },
     "execution_count": 17,
     "metadata": {},
     "output_type": "execute_result"
    }
   ],
   "source": [
    "list(map(splicer, names))"
   ]
  },
  {
   "cell_type": "code",
   "execution_count": 18,
   "id": "b800cda8",
   "metadata": {},
   "outputs": [],
   "source": [
    "#filter in built functions\n",
    "def check_even(num):\n",
    "    return num%2 == 0"
   ]
  },
  {
   "cell_type": "code",
   "execution_count": 22,
   "id": "d6de30d8",
   "metadata": {},
   "outputs": [],
   "source": [
    "mynumss = [1,2,3,4,5,6,7,8]"
   ]
  },
  {
   "cell_type": "code",
   "execution_count": 23,
   "id": "3bcdac45",
   "metadata": {},
   "outputs": [
    {
     "data": {
      "text/plain": [
       "<filter at 0x105a70850>"
      ]
     },
     "execution_count": 23,
     "metadata": {},
     "output_type": "execute_result"
    }
   ],
   "source": [
    "filter(check_even, mynumss)"
   ]
  },
  {
   "cell_type": "code",
   "execution_count": 24,
   "id": "f0fa099a",
   "metadata": {},
   "outputs": [
    {
     "data": {
      "text/plain": [
       "[2, 4, 6, 8]"
      ]
     },
     "execution_count": 24,
     "metadata": {},
     "output_type": "execute_result"
    }
   ],
   "source": [
    "list(filter(check_even, mynumss))"
   ]
  },
  {
   "cell_type": "code",
   "execution_count": 25,
   "id": "0bd2988a",
   "metadata": {},
   "outputs": [
    {
     "name": "stdout",
     "output_type": "stream",
     "text": [
      "2\n",
      "4\n",
      "6\n",
      "8\n"
     ]
    }
   ],
   "source": [
    "for n in filter(check_even, mynumss):\n",
    "    print(n)"
   ]
  },
  {
   "cell_type": "code",
   "execution_count": 31,
   "id": "36cf4cd3",
   "metadata": {},
   "outputs": [],
   "source": [
    "#LAMBDA expressions mostly used for short simple and not complex functions\n",
    "square = lambda num: num**2"
   ]
  },
  {
   "cell_type": "code",
   "execution_count": 33,
   "id": "948ecb20",
   "metadata": {},
   "outputs": [
    {
     "data": {
      "text/plain": [
       "81"
      ]
     },
     "execution_count": 33,
     "metadata": {},
     "output_type": "execute_result"
    }
   ],
   "source": [
    "square(9)"
   ]
  },
  {
   "cell_type": "code",
   "execution_count": 34,
   "id": "cf31f489",
   "metadata": {},
   "outputs": [
    {
     "data": {
      "text/plain": [
       "[1, 4, 9, 16, 25, 36, 49, 64]"
      ]
     },
     "execution_count": 34,
     "metadata": {},
     "output_type": "execute_result"
    }
   ],
   "source": [
    "list(map(lambda num: num**2, mynumss))"
   ]
  },
  {
   "cell_type": "code",
   "execution_count": 35,
   "id": "0a282f9c",
   "metadata": {},
   "outputs": [
    {
     "data": {
      "text/plain": [
       "[2, 4, 6, 8]"
      ]
     },
     "execution_count": 35,
     "metadata": {},
     "output_type": "execute_result"
    }
   ],
   "source": [
    "list(filter(lambda num: num%2==0, mynumss))"
   ]
  },
  {
   "cell_type": "code",
   "execution_count": 37,
   "id": "13043bef",
   "metadata": {},
   "outputs": [
    {
     "data": {
      "text/plain": [
       "['d', 'A', 'C']"
      ]
     },
     "execution_count": 37,
     "metadata": {},
     "output_type": "execute_result"
    }
   ],
   "source": [
    "list(map(lambda string: string[0], names))"
   ]
  },
  {
   "cell_type": "code",
   "execution_count": 24,
   "id": "742203af",
   "metadata": {},
   "outputs": [],
   "source": [
    "class dog:\n",
    "    \n",
    "    species = ' Mammal'\n",
    "    \n",
    "    def __init__(self, breed,name,spots):\n",
    "        \n",
    "        \n",
    "        self.breed = breed\n",
    "        self.name = name\n",
    "        self.spots = spots\n",
    "        \n",
    "    def bark(self, number):\n",
    "\n",
    "        print(\"WOOF! My name is {} and my number is {}\".format(self.name, number))\n",
    "        \n",
    "        \n",
    "        \n",
    "        \n",
    "        "
   ]
  },
  {
   "cell_type": "code",
   "execution_count": 25,
   "id": "114923d6",
   "metadata": {},
   "outputs": [],
   "source": [
    "mydog= dog(breed = 'Rotweiler', name = 'Bruno', spots = False )"
   ]
  },
  {
   "cell_type": "code",
   "execution_count": 26,
   "id": "c0c63431",
   "metadata": {},
   "outputs": [
    {
     "data": {
      "text/plain": [
       "'Rotweiler'"
      ]
     },
     "execution_count": 26,
     "metadata": {},
     "output_type": "execute_result"
    }
   ],
   "source": [
    "mydog.breed"
   ]
  },
  {
   "cell_type": "code",
   "execution_count": 27,
   "id": "e2e5f742",
   "metadata": {},
   "outputs": [
    {
     "data": {
      "text/plain": [
       "'Bruno'"
      ]
     },
     "execution_count": 27,
     "metadata": {},
     "output_type": "execute_result"
    }
   ],
   "source": [
    "mydog.name"
   ]
  },
  {
   "cell_type": "code",
   "execution_count": 28,
   "id": "ac7b33e6",
   "metadata": {},
   "outputs": [
    {
     "data": {
      "text/plain": [
       "False"
      ]
     },
     "execution_count": 28,
     "metadata": {},
     "output_type": "execute_result"
    }
   ],
   "source": [
    "mydog.spots"
   ]
  },
  {
   "cell_type": "code",
   "execution_count": 29,
   "id": "c84b4455",
   "metadata": {},
   "outputs": [
    {
     "name": "stdout",
     "output_type": "stream",
     "text": [
      "WOOF! My name is Bruno and my number is 5\n"
     ]
    }
   ],
   "source": [
    "mydog.bark(5)"
   ]
  },
  {
   "cell_type": "code",
   "execution_count": 36,
   "id": "0751d662",
   "metadata": {},
   "outputs": [],
   "source": [
    "class Circle():\n",
    "    \n",
    "    pi = 3.14\n",
    "    \n",
    "    def __init__(self, radius=1):\n",
    "        self.radius = radius\n",
    "        self.area = radius**2 *self.pi\n",
    "        \n",
    "        \n",
    "    def get_circumference(self):\n",
    "        \n",
    "        return self.radius * self.pi *2"
   ]
  },
  {
   "cell_type": "code",
   "execution_count": 37,
   "id": "b2666224",
   "metadata": {},
   "outputs": [],
   "source": [
    "mycircum = Circle(15)"
   ]
  },
  {
   "cell_type": "code",
   "execution_count": 38,
   "id": "7ced06a0",
   "metadata": {},
   "outputs": [
    {
     "data": {
      "text/plain": [
       "15"
      ]
     },
     "execution_count": 38,
     "metadata": {},
     "output_type": "execute_result"
    }
   ],
   "source": [
    "mycircum.radius"
   ]
  },
  {
   "cell_type": "code",
   "execution_count": 39,
   "id": "8ad3c25d",
   "metadata": {},
   "outputs": [
    {
     "data": {
      "text/plain": [
       "94.2"
      ]
     },
     "execution_count": 39,
     "metadata": {},
     "output_type": "execute_result"
    }
   ],
   "source": [
    "mycircum.get_circumference()"
   ]
  },
  {
   "cell_type": "code",
   "execution_count": 40,
   "id": "d8200e0f",
   "metadata": {},
   "outputs": [
    {
     "data": {
      "text/plain": [
       "706.5"
      ]
     },
     "execution_count": 40,
     "metadata": {},
     "output_type": "execute_result"
    }
   ],
   "source": [
    "mycircum.area"
   ]
  },
  {
   "cell_type": "code",
   "execution_count": null,
   "id": "1637f3a1",
   "metadata": {},
   "outputs": [],
   "source": [
    "#INHERITANCE AND POLYMORPHISM"
   ]
  },
  {
   "cell_type": "code",
   "execution_count": 1,
   "id": "18583bd5",
   "metadata": {},
   "outputs": [],
   "source": [
    "class Animal():\n",
    "    def __init__(self):\n",
    "        print(\"Animal created\")\n",
    "        \n",
    "    def who_am_i(self):\n",
    "        print(\"I am an animal\")\n",
    "        \n",
    "    def eat(self):\n",
    "        print(\"I am eating\")"
   ]
  },
  {
   "cell_type": "code",
   "execution_count": 2,
   "id": "c30762d9",
   "metadata": {},
   "outputs": [
    {
     "name": "stdout",
     "output_type": "stream",
     "text": [
      "Animal created\n"
     ]
    }
   ],
   "source": [
    "myanimal = Animal()"
   ]
  },
  {
   "cell_type": "code",
   "execution_count": 3,
   "id": "36bd0a34",
   "metadata": {},
   "outputs": [
    {
     "name": "stdout",
     "output_type": "stream",
     "text": [
      "I am an animal\n"
     ]
    }
   ],
   "source": [
    "myanimal.who_am_i()"
   ]
  },
  {
   "cell_type": "code",
   "execution_count": 4,
   "id": "fdf9bd1c",
   "metadata": {},
   "outputs": [
    {
     "name": "stdout",
     "output_type": "stream",
     "text": [
      "I am eating\n"
     ]
    }
   ],
   "source": [
    "myanimal.eat()"
   ]
  },
  {
   "cell_type": "code",
   "execution_count": 69,
   "id": "2f9f37c3",
   "metadata": {},
   "outputs": [],
   "source": [
    "class Dog(Animal):\n",
    "    def __init__(self):\n",
    "        Animal.__init__(self)\n",
    "        print(\"Dog Created\")\n",
    "        \n",
    "    def who_am_i(self):\n",
    "        print(\"I am a dog \")\n",
    "        \n",
    "    def bark(self):\n",
    "        print(\"Woof!!\")"
   ]
  },
  {
   "cell_type": "code",
   "execution_count": 70,
   "id": "56f24432",
   "metadata": {},
   "outputs": [
    {
     "name": "stdout",
     "output_type": "stream",
     "text": [
      "Animal created\n",
      "Dog Created\n"
     ]
    }
   ],
   "source": [
    "mydogg = Dog()"
   ]
  },
  {
   "cell_type": "code",
   "execution_count": 72,
   "id": "89b307b7",
   "metadata": {},
   "outputs": [
    {
     "name": "stdout",
     "output_type": "stream",
     "text": [
      "Woof!!\n"
     ]
    }
   ],
   "source": [
    "mydogg.bark()\n"
   ]
  },
  {
   "cell_type": "code",
   "execution_count": 77,
   "id": "96a0416d",
   "metadata": {},
   "outputs": [],
   "source": [
    "class tiger():\n",
    "    def __init__(self,name):\n",
    "        self.name = name \n",
    "        \n",
    "    def speak(self):\n",
    "        \n",
    "        return self.name + \" says WOOF!!\""
   ]
  },
  {
   "cell_type": "code",
   "execution_count": 82,
   "id": "da10e172",
   "metadata": {},
   "outputs": [],
   "source": [
    "class Lion():\n",
    "    def __init__(self,name):\n",
    "        self.name = name \n",
    "        \n",
    "    def speak(self):\n",
    "        \n",
    "        return self.name + \" says ROARS!!\""
   ]
  },
  {
   "cell_type": "code",
   "execution_count": 83,
   "id": "82741d06",
   "metadata": {},
   "outputs": [],
   "source": [
    "nyla = tiger(\"nyla\")\n",
    " simba = Lion(\"Simba\")"
   ]
  },
  {
   "cell_type": "code",
   "execution_count": 86,
   "id": "913334f4",
   "metadata": {},
   "outputs": [
    {
     "name": "stdout",
     "output_type": "stream",
     "text": [
      "nyla says WOOF!!\n"
     ]
    }
   ],
   "source": [
    "print(nyla.speak())"
   ]
  },
  {
   "cell_type": "code",
   "execution_count": 87,
   "id": "d149b0e4",
   "metadata": {},
   "outputs": [
    {
     "name": "stdout",
     "output_type": "stream",
     "text": [
      "Simba says ROARS!!\n"
     ]
    }
   ],
   "source": [
    "print(simba.speak())"
   ]
  },
  {
   "cell_type": "code",
   "execution_count": 15,
   "id": "e70aaa33",
   "metadata": {},
   "outputs": [],
   "source": [
    "class Mammals():\n",
    "    def __init__(self,name):\n",
    "        \n",
    "        self.name = name\n",
    "        print(\"I'm a mammal\")\n",
    "        \n",
    "    def speak(self):\n",
    "        raise NotImplementedError"
   ]
  },
  {
   "cell_type": "code",
   "execution_count": 22,
   "id": "c17e8a00",
   "metadata": {},
   "outputs": [],
   "source": [
    "class bird(Mammals):\n",
    "    \n",
    "    def __init__(self,name):\n",
    "        self.name = name\n",
    "        print(\"I'm bird\")\n",
    "        \n",
    "    def speak(self):\n",
    "        return self.name + \" sings\"\n"
   ]
  },
  {
   "cell_type": "code",
   "execution_count": 25,
   "id": "2d64daf7",
   "metadata": {},
   "outputs": [
    {
     "name": "stdout",
     "output_type": "stream",
     "text": [
      "I'm bird\n"
     ]
    }
   ],
   "source": [
    "fly = bird(\"hummimg bird\")"
   ]
  },
  {
   "cell_type": "code",
   "execution_count": 27,
   "id": "18455936",
   "metadata": {},
   "outputs": [
    {
     "data": {
      "text/plain": [
       "'hummimg bird sings'"
      ]
     },
     "execution_count": 27,
     "metadata": {},
     "output_type": "execute_result"
    }
   ],
   "source": [
    "fly.speak()"
   ]
  },
  {
   "cell_type": "code",
   "execution_count": 29,
   "id": "9e10300a",
   "metadata": {},
   "outputs": [
    {
     "name": "stdout",
     "output_type": "stream",
     "text": [
      "I'm a mammal\n"
     ]
    }
   ],
   "source": [
    "bigg = Mammals(\"back\")"
   ]
  },
  {
   "cell_type": "code",
   "execution_count": 30,
   "id": "dff26b4b",
   "metadata": {},
   "outputs": [
    {
     "ename": "NotImplementedError",
     "evalue": "",
     "output_type": "error",
     "traceback": [
      "\u001b[0;31m---------------------------------------------------------------------------\u001b[0m",
      "\u001b[0;31mNotImplementedError\u001b[0m                       Traceback (most recent call last)",
      "\u001b[0;32m/var/folders/ng/vn_j03mn59d8pwfpvfkjqv7m0000gn/T/ipykernel_27401/3478284004.py\u001b[0m in \u001b[0;36m<module>\u001b[0;34m\u001b[0m\n\u001b[0;32m----> 1\u001b[0;31m \u001b[0mbigg\u001b[0m\u001b[0;34m.\u001b[0m\u001b[0mspeak\u001b[0m\u001b[0;34m(\u001b[0m\u001b[0;34m)\u001b[0m\u001b[0;34m\u001b[0m\u001b[0;34m\u001b[0m\u001b[0m\n\u001b[0m",
      "\u001b[0;32m/var/folders/ng/vn_j03mn59d8pwfpvfkjqv7m0000gn/T/ipykernel_27401/3424279865.py\u001b[0m in \u001b[0;36mspeak\u001b[0;34m(self)\u001b[0m\n\u001b[1;32m      6\u001b[0m \u001b[0;34m\u001b[0m\u001b[0m\n\u001b[1;32m      7\u001b[0m     \u001b[0;32mdef\u001b[0m \u001b[0mspeak\u001b[0m\u001b[0;34m(\u001b[0m\u001b[0mself\u001b[0m\u001b[0;34m)\u001b[0m\u001b[0;34m:\u001b[0m\u001b[0;34m\u001b[0m\u001b[0;34m\u001b[0m\u001b[0m\n\u001b[0;32m----> 8\u001b[0;31m         \u001b[0;32mraise\u001b[0m \u001b[0mNotImplementedError\u001b[0m\u001b[0;34m\u001b[0m\u001b[0;34m\u001b[0m\u001b[0m\n\u001b[0m",
      "\u001b[0;31mNotImplementedError\u001b[0m: "
     ]
    }
   ],
   "source": [
    "bigg.speak()"
   ]
  },
  {
   "cell_type": "code",
   "execution_count": 39,
   "id": "b14150ae",
   "metadata": {},
   "outputs": [],
   "source": [
    "class Book():\n",
    "    def __init__(self,title,author,pages):\n",
    "        self.title = title\n",
    "        self.author = author\n",
    "        self.pages = pages\n",
    "        \n",
    "    def __str__(self):\n",
    "        return f\"{self.title} by {self.author}\"\n",
    "    \n",
    "    def __len__(self):\n",
    "        return self.pages\n",
    "    \n",
    "    def __del__(self):\n",
    "        print (\"A book object has been deleted\")"
   ]
  },
  {
   "cell_type": "code",
   "execution_count": 40,
   "id": "4181405d",
   "metadata": {},
   "outputs": [],
   "source": [
    "b = Book('Python rocks','Daniel', 300)"
   ]
  },
  {
   "cell_type": "code",
   "execution_count": 41,
   "id": "00622d13",
   "metadata": {},
   "outputs": [
    {
     "name": "stdout",
     "output_type": "stream",
     "text": [
      "Python rocks by Daniel\n"
     ]
    }
   ],
   "source": [
    "print(b)"
   ]
  },
  {
   "cell_type": "code",
   "execution_count": 42,
   "id": "093c1887",
   "metadata": {},
   "outputs": [
    {
     "data": {
      "text/plain": [
       "300"
      ]
     },
     "execution_count": 42,
     "metadata": {},
     "output_type": "execute_result"
    }
   ],
   "source": [
    "len(b)"
   ]
  },
  {
   "cell_type": "code",
   "execution_count": 43,
   "id": "deb95e8d",
   "metadata": {},
   "outputs": [
    {
     "name": "stdout",
     "output_type": "stream",
     "text": [
      "A book object has been deleted\n"
     ]
    }
   ],
   "source": [
    "del b"
   ]
  },
  {
   "cell_type": "code",
   "execution_count": 44,
   "id": "47fdadca",
   "metadata": {},
   "outputs": [
    {
     "ename": "NameError",
     "evalue": "name 'b' is not defined",
     "output_type": "error",
     "traceback": [
      "\u001b[0;31m---------------------------------------------------------------------------\u001b[0m",
      "\u001b[0;31mNameError\u001b[0m                                 Traceback (most recent call last)",
      "\u001b[0;32m/var/folders/ng/vn_j03mn59d8pwfpvfkjqv7m0000gn/T/ipykernel_27401/1685013873.py\u001b[0m in \u001b[0;36m<module>\u001b[0;34m\u001b[0m\n\u001b[0;32m----> 1\u001b[0;31m \u001b[0mb\u001b[0m\u001b[0;34m\u001b[0m\u001b[0;34m\u001b[0m\u001b[0m\n\u001b[0m",
      "\u001b[0;31mNameError\u001b[0m: name 'b' is not defined"
     ]
    }
   ],
   "source": [
    "b"
   ]
  },
  {
   "cell_type": "code",
   "execution_count": null,
   "id": "e13f2781",
   "metadata": {},
   "outputs": [],
   "source": []
  },
  {
   "cell_type": "code",
   "execution_count": null,
   "id": "c196321a",
   "metadata": {},
   "outputs": [],
   "source": [
    "\n"
   ]
  },
  {
   "cell_type": "code",
   "execution_count": null,
   "id": "81541523",
   "metadata": {},
   "outputs": [],
   "source": []
  },
  {
   "cell_type": "code",
   "execution_count": null,
   "id": "53eedee5",
   "metadata": {},
   "outputs": [],
   "source": []
  },
  {
   "cell_type": "code",
   "execution_count": null,
   "id": "5876357b",
   "metadata": {},
   "outputs": [],
   "source": []
  },
  {
   "cell_type": "code",
   "execution_count": null,
   "id": "f40b5be6",
   "metadata": {},
   "outputs": [],
   "source": []
  },
  {
   "cell_type": "code",
   "execution_count": null,
   "id": "b661a707",
   "metadata": {},
   "outputs": [],
   "source": []
  },
  {
   "cell_type": "code",
   "execution_count": null,
   "id": "83294013",
   "metadata": {},
   "outputs": [],
   "source": []
  },
  {
   "cell_type": "code",
   "execution_count": null,
   "id": "b40c130c",
   "metadata": {},
   "outputs": [],
   "source": []
  },
  {
   "cell_type": "code",
   "execution_count": null,
   "id": "83b01d2b",
   "metadata": {},
   "outputs": [],
   "source": []
  },
  {
   "cell_type": "code",
   "execution_count": null,
   "id": "45b628d1",
   "metadata": {},
   "outputs": [],
   "source": []
  },
  {
   "cell_type": "code",
   "execution_count": null,
   "id": "6e44ac97",
   "metadata": {},
   "outputs": [],
   "source": []
  },
  {
   "cell_type": "code",
   "execution_count": 6,
   "id": "fc68efcb",
   "metadata": {},
   "outputs": [],
   "source": [
    "x = 5"
   ]
  },
  {
   "cell_type": "code",
   "execution_count": 7,
   "id": "a942a93b",
   "metadata": {},
   "outputs": [
    {
     "data": {
      "text/plain": [
       "32"
      ]
     },
     "execution_count": 7,
     "metadata": {},
     "output_type": "execute_result"
    }
   ],
   "source": [
    "2**x"
   ]
  },
  {
   "cell_type": "code",
   "execution_count": 14,
   "id": "89e1295b",
   "metadata": {},
   "outputs": [
    {
     "name": "stdout",
     "output_type": "stream",
     "text": [
      "Welcome to turing\n"
     ]
    }
   ],
   "source": [
    "print(\"Welcome to turing\".capitalize())"
   ]
  },
  {
   "cell_type": "code",
   "execution_count": null,
   "id": "0dce20a5",
   "metadata": {},
   "outputs": [],
   "source": [
    "class Hello"
   ]
  },
  {
   "cell_type": "code",
   "execution_count": 10,
   "id": "1c82cb99",
   "metadata": {},
   "outputs": [],
   "source": [
    "a = [1,2,3,]"
   ]
  },
  {
   "cell_type": "code",
   "execution_count": 11,
   "id": "3a464b4d",
   "metadata": {},
   "outputs": [],
   "source": [
    "def incr(x):\n",
    "    return x +1"
   ]
  },
  {
   "cell_type": "code",
   "execution_count": 12,
   "id": "d30f5603",
   "metadata": {},
   "outputs": [
    {
     "name": "stdout",
     "output_type": "stream",
     "text": [
      "[2, 3, 4]\n"
     ]
    }
   ],
   "source": [
    "print(list(map(incr,a)))"
   ]
  },
  {
   "cell_type": "code",
   "execution_count": 13,
   "id": "2693781b",
   "metadata": {},
   "outputs": [
    {
     "name": "stdout",
     "output_type": "stream",
     "text": [
      "['t', 'u', 'r', 'i', 'n', 'g']\n"
     ]
    }
   ],
   "source": [
    "print([i.lower() for i in \"TURING\"])"
   ]
  },
  {
   "cell_type": "code",
   "execution_count": 1,
   "id": "be7c0e97",
   "metadata": {},
   "outputs": [],
   "source": [
    "def func():\n",
    "    x = 50\n",
    "    return x"
   ]
  },
  {
   "cell_type": "code",
   "execution_count": 2,
   "id": "02ddecfb",
   "metadata": {},
   "outputs": [
    {
     "ename": "NameError",
     "evalue": "name 'x' is not defined",
     "output_type": "error",
     "traceback": [
      "\u001b[0;31m---------------------------------------------------------------------------\u001b[0m",
      "\u001b[0;31mNameError\u001b[0m                                 Traceback (most recent call last)",
      "\u001b[0;32m/var/folders/ng/vn_j03mn59d8pwfpvfkjqv7m0000gn/T/ipykernel_805/2404756030.py\u001b[0m in \u001b[0;36m<module>\u001b[0;34m\u001b[0m\n\u001b[1;32m      1\u001b[0m \u001b[0mfunc\u001b[0m\u001b[0;34m(\u001b[0m\u001b[0;34m)\u001b[0m\u001b[0;34m\u001b[0m\u001b[0;34m\u001b[0m\u001b[0m\n\u001b[0;32m----> 2\u001b[0;31m \u001b[0mprint\u001b[0m\u001b[0;34m(\u001b[0m\u001b[0mx\u001b[0m\u001b[0;34m)\u001b[0m\u001b[0;34m\u001b[0m\u001b[0;34m\u001b[0m\u001b[0m\n\u001b[0m",
      "\u001b[0;31mNameError\u001b[0m: name 'x' is not defined"
     ]
    }
   ],
   "source": [
    "func()\n",
    "print(x)"
   ]
  },
  {
   "cell_type": "code",
   "execution_count": null,
   "id": "29e9eb07",
   "metadata": {},
   "outputs": [],
   "source": []
  },
  {
   "cell_type": "code",
   "execution_count": null,
   "id": "d74147fa",
   "metadata": {},
   "outputs": [],
   "source": []
  },
  {
   "cell_type": "code",
   "execution_count": null,
   "id": "e8dc0766",
   "metadata": {},
   "outputs": [],
   "source": []
  },
  {
   "cell_type": "code",
   "execution_count": null,
   "id": "d8debcd1",
   "metadata": {},
   "outputs": [],
   "source": []
  },
  {
   "cell_type": "code",
   "execution_count": null,
   "id": "4e787c9e",
   "metadata": {},
   "outputs": [],
   "source": []
  },
  {
   "cell_type": "code",
   "execution_count": null,
   "id": "56a6f2e4",
   "metadata": {},
   "outputs": [],
   "source": []
  },
  {
   "cell_type": "code",
   "execution_count": null,
   "id": "bed8818a",
   "metadata": {},
   "outputs": [],
   "source": []
  },
  {
   "cell_type": "code",
   "execution_count": null,
   "id": "c6c25f4a",
   "metadata": {},
   "outputs": [],
   "source": []
  },
  {
   "cell_type": "code",
   "execution_count": null,
   "id": "a0d52887",
   "metadata": {},
   "outputs": [],
   "source": []
  },
  {
   "cell_type": "code",
   "execution_count": 3,
   "id": "2f738ce0",
   "metadata": {},
   "outputs": [],
   "source": [
    "s = {}"
   ]
  },
  {
   "cell_type": "code",
   "execution_count": 4,
   "id": "ef4dc7dd",
   "metadata": {},
   "outputs": [],
   "source": [
    "acceptable = \"()\", \"[]\", \"{}\""
   ]
  },
  {
   "cell_type": "code",
   "execution_count": 7,
   "id": "7bef58aa",
   "metadata": {},
   "outputs": [],
   "source": [
    "def isvalid():\n",
    "    \n",
    "    s = str(input())\n",
    "\n",
    "    if s not in acceptable:\n",
    "        return False\n",
    "\n",
    "    else:\n",
    "        return True"
   ]
  },
  {
   "cell_type": "code",
   "execution_count": 8,
   "id": "b66db141",
   "metadata": {},
   "outputs": [
    {
     "name": "stdout",
     "output_type": "stream",
     "text": [
      "()\n"
     ]
    },
    {
     "data": {
      "text/plain": [
       "True"
      ]
     },
     "execution_count": 8,
     "metadata": {},
     "output_type": "execute_result"
    }
   ],
   "source": [
    "isvalid()"
   ]
  },
  {
   "cell_type": "code",
   "execution_count": 1,
   "id": "00ba447e",
   "metadata": {},
   "outputs": [
    {
     "ename": "IndentationError",
     "evalue": "expected an indented block (1080864724.py, line 12)",
     "output_type": "error",
     "traceback": [
      "\u001b[0;36m  File \u001b[0;32m\"/var/folders/ng/vn_j03mn59d8pwfpvfkjqv7m0000gn/T/ipykernel_759/1080864724.py\"\u001b[0;36m, line \u001b[0;32m12\u001b[0m\n\u001b[0;31m    return result\u001b[0m\n\u001b[0m    ^\u001b[0m\n\u001b[0;31mIndentationError\u001b[0m\u001b[0;31m:\u001b[0m expected an indented block\n"
     ]
    }
   ],
   "source": [
    "def reversen(s:str())-> str:\n",
    "    result = \"\"\n",
    "    \n",
    "    for alpha in s:\n",
    "        \n",
    "        if alpha.isalpha():\n",
    "            result = alpha + result\n",
    "        else:\n",
    "            \n",
    "            \n",
    "            \n",
    "    return result"
   ]
  },
  {
   "cell_type": "code",
   "execution_count": 2,
   "id": "05207cf3",
   "metadata": {},
   "outputs": [
    {
     "ename": "NameError",
     "evalue": "name 'reversen' is not defined",
     "output_type": "error",
     "traceback": [
      "\u001b[0;31m---------------------------------------------------------------------------\u001b[0m",
      "\u001b[0;31mNameError\u001b[0m                                 Traceback (most recent call last)",
      "\u001b[0;32m/var/folders/ng/vn_j03mn59d8pwfpvfkjqv7m0000gn/T/ipykernel_759/1935587888.py\u001b[0m in \u001b[0;36m<module>\u001b[0;34m\u001b[0m\n\u001b[0;32m----> 1\u001b[0;31m \u001b[0mreversen\u001b[0m\u001b[0;34m(\u001b[0m\u001b[0;34m\"Hou1s4e\"\u001b[0m\u001b[0;34m)\u001b[0m\u001b[0;34m\u001b[0m\u001b[0;34m\u001b[0m\u001b[0m\n\u001b[0m",
      "\u001b[0;31mNameError\u001b[0m: name 'reversen' is not defined"
     ]
    }
   ],
   "source": [
    "reversen(\"Hou1s4e\")"
   ]
  },
  {
   "cell_type": "code",
   "execution_count": null,
   "id": "ed9be5c1",
   "metadata": {},
   "outputs": [],
   "source": []
  },
  {
   "cell_type": "code",
   "execution_count": null,
   "id": "e20a902b",
   "metadata": {},
   "outputs": [],
   "source": []
  },
  {
   "cell_type": "code",
   "execution_count": 6,
   "id": "a0939c95",
   "metadata": {},
   "outputs": [],
   "source": [
    "import qrcode\n",
    "import image\n",
    "\n",
    "qr = qrcode.QRCode(\n",
    "    version = 15,\n",
    "    box_size = 10,\n",
    "    border = 5\n",
    ")\n",
    "\n",
    "data = \"https://nedytrades.com.ng\"\n",
    "qr.add_data(data)\n",
    "qr.make(fit = True)\n",
    "img = qr.make_image(fill='black',back_color='white')\n",
    "img.save('test2.png')"
   ]
  },
  {
   "cell_type": "code",
   "execution_count": null,
   "id": "42ce6499",
   "metadata": {},
   "outputs": [],
   "source": []
  },
  {
   "cell_type": "code",
   "execution_count": 1,
   "id": "11368834",
   "metadata": {},
   "outputs": [
    {
     "name": "stdout",
     "output_type": "stream",
     "text": [
      "pygame 2.1.2 (SDL 2.0.18, Python 3.9.7)\n",
      "Hello from the pygame community. https://www.pygame.org/contribute.html\n"
     ]
    },
    {
     "ename": "SystemExit",
     "evalue": "0",
     "output_type": "error",
     "traceback": [
      "An exception has occurred, use %tb to see the full traceback.\n",
      "\u001b[0;31mSystemExit\u001b[0m\u001b[0;31m:\u001b[0m 0\n"
     ]
    },
    {
     "name": "stderr",
     "output_type": "stream",
     "text": [
      "/Users/mac/opt/anaconda3/lib/python3.9/site-packages/IPython/core/interactiveshell.py:3452: UserWarning: To exit: use 'exit', 'quit', or Ctrl-D.\n",
      "  warn(\"To exit: use 'exit', 'quit', or Ctrl-D.\", stacklevel=1)\n"
     ]
    }
   ],
   "source": [
    "import pygame\n",
    "import sys\n",
    "import os\n",
    "import random \n",
    "import math\n",
    "\n",
    "pygame.init()\n",
    "pygame.display.set_caption(\"Snake Game\")\n",
    "pygame.font.init()\n",
    "random.seed()\n",
    "\n",
    "\n",
    "# we will declare global constant definitions\n",
    "\n",
    "SPEED = 0.36\n",
    "SNAKE_SIZE = 9\n",
    "APPLE_SIZE = SNAKE_SIZE     # we will keep both food and size of snake same\n",
    "SEPARATION = 10    # separation between two pixels\n",
    "SCREEN_HEIGHT = 600\n",
    "SCREEN_WIDTH = 800\n",
    "FPS = 25\n",
    "KEY = {\"UP\":1 , \"DOWN\":2 , \"LEFT\":3, \"RIGHT\":4}\n",
    "\n",
    "\n",
    "# we will initialise screen\n",
    "screen = pygame.display.set_mode((SCREEN_WIDTH,SCREEN_HEIGHT),pygame.HWSURFACE)\n",
    "# we have used hw surface which stands for hardware surface refers to using memory on the video card for storing\n",
    "# draws as opposed to main memory\n",
    "\n",
    "# Resources\n",
    "score_font = pygame.font.Font(None,38)\n",
    "score_numb_font = pygame.font.Font(None,28)\n",
    "game_over_font = pygame.font.Font(None,46)\n",
    "play_again_font = score_numb_font\n",
    "score_msg = score_font.render(\"Score : \",1,pygame.Color(\"green\"))\n",
    "score_msg_size = score_font.size(\"Score\")\n",
    "background_color = pygame.Color(0,0,0)    # we will fill background color as black\n",
    "black = pygame.Color(0,0,0)\n",
    "\n",
    "\n",
    "# for clock at the left corner\n",
    "gameClock = pygame.time.Clock()\n",
    "\n",
    "def checkCollision(posA,As ,posB , Bs):    # As is the size of a and Bs is the size of b\n",
    "    if(posA.x < posB.x+Bs and posA.x+As > posB.x and posA.y < posB.y+Bs and posA.y+As > posB.y):\n",
    "        return True\n",
    "    return False\n",
    "\n",
    "# to check the boundaries  here we are not limiting boundaries like it can pass through screen and come from other side\n",
    "\n",
    "def checkLimits(snake):\n",
    "    if(snake.x > SCREEN_WIDTH):\n",
    "        snake.x = SNAKE_SIZE\n",
    "    if(snake.x < 0):    # this will be checked when some part of snake is on other side and some on opposite side\n",
    "        snake.x = SCREEN_WIDTH - SNAKE_SIZE\n",
    "    if(snake.y > SCREEN_HEIGHT):\n",
    "        snake.y = SNAKE_SIZE\n",
    "    if(snake.y < 0):   # this also same half half\n",
    "        snake.y = SCREEN_HEIGHT - SNAKE_SIZE\n",
    "\n",
    "# we will make class for food of the snake let's name it as apple\n",
    "\n",
    "class Apple:\n",
    "    def __init__(self, x ,y,state):\n",
    "        self.x = x\n",
    "        self.y = y\n",
    "        self.state = state\n",
    "        self.color = pygame.color.Color(\"orange\")     # color of food\n",
    "\n",
    "    def draw(self,screen):\n",
    "        pygame.draw.rect(screen,self.color,(self.x,self.y,APPLE_SIZE,APPLE_SIZE),0)\n",
    "\n",
    "class segment:\n",
    "    # initially snake will move in up direction\n",
    "    def __init__(self,x,y):\n",
    "        self.x = x\n",
    "        self.y = y\n",
    "        self.direction = KEY[\"UP\"]\n",
    "        self.color = \"white\"\n",
    "\n",
    "class snake:\n",
    "    def __init__(self,x,y):\n",
    "        self.x = x\n",
    "        self.y = y\n",
    "        self.direction = KEY[\"UP\"]\n",
    "        self.stack =[]   # initially it will be empty\n",
    "        self.stack.append(self)\n",
    "        blackBox = segment(self.x , self.y + SEPARATION)\n",
    "        blackBox.direction = KEY[\"UP\"]\n",
    "        blackBox.color = \"NULL\"\n",
    "        self.stack.append(blackBox)\n",
    "\n",
    "# we will define moves of the snake\n",
    "\n",
    "    def move(self):\n",
    "        last_element = len(self.stack)-1\n",
    "        while(last_element != 0):\n",
    "            self.stack[last_element].direction = self.stack[last_element-1].direction\n",
    "            self.stack[last_element].x = self.stack[last_element-1].x \n",
    "            self.stack[last_element].y = self.stack[last_element-1].y \n",
    "            last_element-=1\n",
    "        if(len(self.stack)<2):\n",
    "            last_segment = self\n",
    "        else:\n",
    "            last_segment = self.stack.pop(last_element)\n",
    "        last_segment.direction = self.stack[0].direction\n",
    "        if(self.stack[0].direction ==KEY[\"UP\"]):\n",
    "            last_segment.y = self.stack[0].y - (SPEED * FPS)\n",
    "        elif(self.stack[0].direction == KEY[\"DOWN\"]):\n",
    "            last_segment.y = self.stack[0].y + (SPEED * FPS) \n",
    "        elif(self.stack[0].direction ==KEY[\"LEFT\"]):\n",
    "            last_segment.x = self.stack[0].x - (SPEED * FPS)\n",
    "        elif(self.stack[0].direction == KEY[\"RIGHT\"]):\n",
    "            last_segment.x = self.stack[0].x + (SPEED * FPS)\n",
    "        self.stack.insert(0,last_segment)\n",
    "\n",
    "    def getHead(self):    # head of the snake \n",
    "        return(self.stack[0])   # It will be always 0 index\n",
    "\n",
    "    # now when snake its food it will grow so for that we will add that food to stack\n",
    "\n",
    "    def grow(self):\n",
    "        last_element = len(self.stack) -1\n",
    "        self.stack[last_element].direction = self.stack[last_element].direction\n",
    "        if(self.stack[last_element].direction == KEY[\"UP\"]):\n",
    "            newSegment = segment(self.stack[last_element].x, self.stack[last_element].y -SNAKE_SIZE)\n",
    "            blackBox = segment(newSegment.x , newSegment.y-SEPARATION)\n",
    "        \n",
    "        elif(self.stack[last_element].direction == KEY[\"DOWN\"]):\n",
    "            newSegment = segment(self.stack[last_element].x, self.stack[last_element].y +SNAKE_SIZE)\n",
    "            blackBox = segment(newSegment.x , newSegment.y+SEPARATION)\n",
    "\n",
    "        elif(self.stack[last_element].direction == KEY[\"LEFT\"]):\n",
    "            newSegment = segment(self.stack[last_element].x - SNAKE_SIZE, self.stack[last_element].y)\n",
    "            blackBox = segment(newSegment.x - SEPARATION , newSegment.y)\n",
    "        \n",
    "        elif(self.stack[last_element].direction == KEY[\"RIGHT\"]):\n",
    "            newSegment = segment(self.stack[last_element].x + SNAKE_SIZE, self.stack[last_element].y)\n",
    "            blackBox = segment(newSegment.x + SEPARATION , newSegment.y)\n",
    "\n",
    "        blackBox.color = \"NULL\"\n",
    "        self.stack.append(newSegment)\n",
    "        self.stack.append(blackBox)\n",
    "\n",
    "    def iterateSegments(self,delta):\n",
    "        pass\n",
    "\n",
    "    def setDirection(self,direction):\n",
    "        if(self.direction == KEY[\"RIGHT\"] and direction == KEY[\"LEFT\"] or self.direction == KEY[\"LEFT\"] and \n",
    "                direction == KEY[\"RIGHT\"]):\n",
    "            pass\n",
    "        elif(self.direction == KEY[\"UP\"] and direction == KEY[\"DOWN\"] or self.direction == KEY[\"UP\"] and \n",
    "                direction == KEY[\"DOWN\"]):\n",
    "            pass\n",
    "        else:\n",
    "            self.direction = direction\n",
    "\n",
    "    def get_rect(self):     # get the rectangle shape \n",
    "        rect = (self.x , self.y)\n",
    "        return rect\n",
    "\n",
    "    def getX(self):\n",
    "        return self.x\n",
    "\n",
    "    def getY(self):\n",
    "        return self.y\n",
    "\n",
    "    def setX(self,x):\n",
    "        self.x = x\n",
    "    \n",
    "    def setY(self,y):\n",
    "        self.y = y\n",
    "\n",
    "    # we will make the function of crashing when snake eats itself\n",
    "\n",
    "    def checkCrashing(self):\n",
    "        counter = 1\n",
    "        while(counter < len(self.stack)-1):\n",
    "            if(checkCollision(self.stack[0], SNAKE_SIZE , self.stack[counter], SNAKE_SIZE) and \n",
    "                        self.stack[counter].color != \"NULL\"):\n",
    "                return True\n",
    "            counter +=1\n",
    "        return False\n",
    "\n",
    "    # we will draw the snake \n",
    "    def draw(self,screen):\n",
    "        pygame.draw.rect(screen,pygame.color.Color(\"green\"), (self.stack[0].x , self.stack[0].y, \n",
    "                SNAKE_SIZE, SNAKE_SIZE),0)\n",
    "        counter = 1\n",
    "        while(counter < len(self.stack)):\n",
    "            if(self.stack[counter].color == \"NULL\"):\n",
    "                counter +=1\n",
    "                continue\n",
    "            pygame.draw.rect(screen , pygame.color.Color(\"yellow\"), (self.stack[counter].x,\n",
    "                self.stack[counter].y, SNAKE_SIZE , SNAKE_SIZE),0)\n",
    "            counter +=1\n",
    "\n",
    "\n",
    "# we will define keys\n",
    "\n",
    "def getKey():\n",
    "    for event in pygame.event.get():\n",
    "        if event.type == pygame.KEYDOWN:\n",
    "            if event.key == pygame.K_UP:\n",
    "                return KEY[\"UP\"]\n",
    "            elif event.key == pygame.K_DOWN:\n",
    "                return KEY[\"DOWN\"]\n",
    "            elif event.key == pygame.K_LEFT:\n",
    "                return KEY[\"LEFT\"]\n",
    "            elif event.key == pygame.K_RIGHT:\n",
    "                return KEY[\"RIGHT\"]\n",
    "            # for exit \n",
    "            elif event.key == pygame.K_ESCAPE:\n",
    "                return \"exit\"\n",
    "            # if we want to continue playing again\n",
    "            elif event.key == pygame.K_y:\n",
    "                return \"yes\"\n",
    "            # if we don't want to play game\n",
    "            elif event.key == pygame.K_n:\n",
    "                return \"no\"\n",
    "        if event.type == pygame.QUIT:\n",
    "            sys.exit(0)\n",
    "\n",
    "def endGame():\n",
    "    message = game_over_font.render(\"Gsme Over\",1,pygame.Color(\"white\"))\n",
    "    message_play_again = play_again_font.render(\"Play Again ? (Y/N)\",1,pygame.Color(\"green\"))\n",
    "    screen.blit(message,(320,240))\n",
    "    screen.blit(message_play_again,(320+12,240+40))\n",
    "\n",
    "    pygame.display.flip()\n",
    "    pygame.display.update()\n",
    "\n",
    "    mKey = getKey()\n",
    "    while(mKey != \"exit\"):\n",
    "        if(mKey == \"yes\"):\n",
    "            main()\n",
    "        elif(mKey == \"no\"):\n",
    "            break\n",
    "        mKey = getKey()\n",
    "        gameClock.tick(FPS)\n",
    "    sys.exit(0)\n",
    "\n",
    "def drawScore(score):\n",
    "    score_numb = score_numb_font.render(str(score),1,pygame.Color(\"red\"))\n",
    "    screen.blit(score_msg, (SCREEN_WIDTH - score_msg_size[0]-60,10))\n",
    "    screen.blit(score_numb,(SCREEN_WIDTH - 45,14))\n",
    "\n",
    "def drawGameTime(gameTime):\n",
    "    game_time = score_font.render(\"Time:\" , 1, pygame.Color(\"white\"))\n",
    "    game_time_numb = score_numb_font.render(str(gameTime/1000),1,pygame.Color(\"white\"))\n",
    "    screen.blit(game_time,(30,10))\n",
    "    screen.blit(game_time_numb,(105,14))\n",
    "\n",
    "def exitScreen():\n",
    "    pass\n",
    "\n",
    "def respawnApple(apples , index , sx , sy):\n",
    "    radius = math.sqrt((SCREEN_WIDTH/2*SCREEN_WIDTH/2 + SCREEN_HEIGHT/2*SCREEN_HEIGHT/2))/2\n",
    "    angle = 999\n",
    "    while(angle > radius):\n",
    "        angle = random.uniform(0,800)*math.pi*2\n",
    "        x = SCREEN_WIDTH/2 + radius * math.cos(angle)\n",
    "        y = SCREEN_HEIGHT/2 + radius * math.sin(angle)\n",
    "        if(x == sx and y == sy):\n",
    "            continue\n",
    "    newApple = Apple(x , y ,1)\n",
    "    apples[index] = newApple\n",
    "\n",
    "def respawnApples(apples , quantity , sx ,sy):\n",
    "    counter = 0\n",
    "    del apples[:]\n",
    "    radius = math.sqrt((SCREEN_WIDTH/2*SCREEN_WIDTH/2 + SCREEN_HEIGHT/2*SCREEN_HEIGHT/2))/2\n",
    "    angle = 999\n",
    "    while(counter < quantity):\n",
    "        while(angle > radius):\n",
    "            angle = random.uniform(0,800) * math.pi*2\n",
    "            x = SCREEN_WIDTH/2 + radius * math.cos(angle)\n",
    "            y = SCREEN_HEIGHT/2 + radius * math.sin(angle)\n",
    "            if((x-APPLE_SIZE == sx or x+APPLE_SIZE == sx) and (y-APPLE_SIZE == sy or y+APPLE_SIZE == sy) \n",
    "                    or radius - angle <= 10): \n",
    "                    continue\n",
    "        apples.append(Apple(x,y,1))\n",
    "        angle = 999\n",
    "        counter +=1\n",
    "\n",
    "\n",
    "def main():\n",
    "    score = 0\n",
    "\n",
    "\n",
    "    #initialisation of snake\n",
    "\n",
    "    mySnake = snake(SCREEN_WIDTH/2,SCREEN_HEIGHT/2)\n",
    "    mySnake.setDirection(KEY[\"UP\"])\n",
    "    mySnake.move()\n",
    "    start_segments = 3   # initially we will be having 3 segment long snake\n",
    "    while(start_segments > 0):\n",
    "        mySnake.grow()\n",
    "        mySnake.move()\n",
    "        start_segments -=1\n",
    "\n",
    "\n",
    "    # food\n",
    "    max_apples = 1  # 1 apple when snake eats \n",
    "    eaten_apple = False   # as snake will eat food apple will be disappear\n",
    "    apples = [Apple(random.randint(60,SCREEN_WIDTH), random.randint(60,SCREEN_HEIGHT),1)]\n",
    "    respawnApples(apples,max_apples , mySnake.x , mySnake.y)\n",
    "\n",
    "    startTime = pygame.time.get_ticks()\n",
    "    endgame = 0\n",
    "\n",
    "    while(endgame != 1):\n",
    "        gameClock.tick(FPS)\n",
    "\n",
    "        # input\n",
    "        keyPress = getKey()\n",
    "        if keyPress == \"exit\":\n",
    "            endgame = 1\n",
    "\n",
    "        # to check collision\n",
    "        checkLimits(mySnake)\n",
    "        if(mySnake.checkCrashing() == True):\n",
    "            endGame()\n",
    "\n",
    "        for myApple in apples:\n",
    "            if(myApple.state == 1):\n",
    "                if(checkCollision(mySnake.getHead(),SNAKE_SIZE,myApple,APPLE_SIZE)==True):\n",
    "                    mySnake.grow()\n",
    "                    myApple.state = 0\n",
    "                    score += 10\n",
    "                    eaten_apple = True\n",
    "\n",
    "        # update position\n",
    "        if(keyPress):\n",
    "            mySnake.setDirection(keyPress)\n",
    "        mySnake.move()\n",
    "\n",
    "        # respawning food \n",
    "        if(eaten_apple == True):\n",
    "            eaten_apple = False\n",
    "            respawnApple(apples , 0 , mySnake.getHead().x , mySnake.getHead().y)\n",
    "\n",
    "        #drawing\n",
    "        screen.fill(background_color)\n",
    "        for myApple in apples:\n",
    "            if(myApple.state == 1):\n",
    "                myApple.draw(screen)\n",
    "        \n",
    "        mySnake.draw(screen)\n",
    "        drawScore(score)\n",
    "        gameTime = pygame.time.get_ticks() - startTime\n",
    "        drawGameTime(gameTime)\n",
    "\n",
    "        pygame.display.flip()\n",
    "        pygame.display.update()\n",
    "\n",
    "main()\n"
   ]
  },
  {
   "cell_type": "code",
   "execution_count": 14,
   "id": "c79a851d",
   "metadata": {},
   "outputs": [
    {
     "ename": "TclError",
     "evalue": "can't use \"pyimage13\" as iconphoto: not a photo image",
     "output_type": "error",
     "traceback": [
      "\u001b[0;31m---------------------------------------------------------------------------\u001b[0m",
      "\u001b[0;31mTclError\u001b[0m                                  Traceback (most recent call last)",
      "\u001b[0;32m/var/folders/ng/vn_j03mn59d8pwfpvfkjqv7m0000gn/T/ipykernel_25496/931860518.py\u001b[0m in \u001b[0;36m<module>\u001b[0;34m\u001b[0m\n\u001b[1;32m     56\u001b[0m \u001b[0;31m#icon\u001b[0m\u001b[0;34m\u001b[0m\u001b[0;34m\u001b[0m\u001b[0m\n\u001b[1;32m     57\u001b[0m \u001b[0mimage_icon\u001b[0m \u001b[0;34m=\u001b[0m \u001b[0mPhotoImage\u001b[0m\u001b[0;34m(\u001b[0m\u001b[0mfile\u001b[0m\u001b[0;34m=\u001b[0m\u001b[0;34m\"speak.png\"\u001b[0m\u001b[0;34m)\u001b[0m\u001b[0;34m\u001b[0m\u001b[0;34m\u001b[0m\u001b[0m\n\u001b[0;32m---> 58\u001b[0;31m \u001b[0mroot\u001b[0m\u001b[0;34m.\u001b[0m\u001b[0miconphoto\u001b[0m\u001b[0;34m(\u001b[0m\u001b[0;32mFalse\u001b[0m\u001b[0;34m,\u001b[0m\u001b[0mimage_icon\u001b[0m\u001b[0;34m)\u001b[0m\u001b[0;34m\u001b[0m\u001b[0;34m\u001b[0m\u001b[0m\n\u001b[0m\u001b[1;32m     59\u001b[0m \u001b[0;34m\u001b[0m\u001b[0m\n\u001b[1;32m     60\u001b[0m \u001b[0;31m#top frame\u001b[0m\u001b[0;34m\u001b[0m\u001b[0;34m\u001b[0m\u001b[0m\n",
      "\u001b[0;32m~/opt/anaconda3/lib/python3.9/tkinter/__init__.py\u001b[0m in \u001b[0;36mwm_iconphoto\u001b[0;34m(self, default, *args)\u001b[0m\n\u001b[1;32m   2125\u001b[0m             \u001b[0mself\u001b[0m\u001b[0;34m.\u001b[0m\u001b[0mtk\u001b[0m\u001b[0;34m.\u001b[0m\u001b[0mcall\u001b[0m\u001b[0;34m(\u001b[0m\u001b[0;34m'wm'\u001b[0m\u001b[0;34m,\u001b[0m \u001b[0;34m'iconphoto'\u001b[0m\u001b[0;34m,\u001b[0m \u001b[0mself\u001b[0m\u001b[0;34m.\u001b[0m\u001b[0m_w\u001b[0m\u001b[0;34m,\u001b[0m \u001b[0;34m\"-default\"\u001b[0m\u001b[0;34m,\u001b[0m \u001b[0;34m*\u001b[0m\u001b[0margs\u001b[0m\u001b[0;34m)\u001b[0m\u001b[0;34m\u001b[0m\u001b[0;34m\u001b[0m\u001b[0m\n\u001b[1;32m   2126\u001b[0m         \u001b[0;32melse\u001b[0m\u001b[0;34m:\u001b[0m\u001b[0;34m\u001b[0m\u001b[0;34m\u001b[0m\u001b[0m\n\u001b[0;32m-> 2127\u001b[0;31m             \u001b[0mself\u001b[0m\u001b[0;34m.\u001b[0m\u001b[0mtk\u001b[0m\u001b[0;34m.\u001b[0m\u001b[0mcall\u001b[0m\u001b[0;34m(\u001b[0m\u001b[0;34m'wm'\u001b[0m\u001b[0;34m,\u001b[0m \u001b[0;34m'iconphoto'\u001b[0m\u001b[0;34m,\u001b[0m \u001b[0mself\u001b[0m\u001b[0;34m.\u001b[0m\u001b[0m_w\u001b[0m\u001b[0;34m,\u001b[0m \u001b[0;34m*\u001b[0m\u001b[0margs\u001b[0m\u001b[0;34m)\u001b[0m\u001b[0;34m\u001b[0m\u001b[0;34m\u001b[0m\u001b[0m\n\u001b[0m\u001b[1;32m   2128\u001b[0m \u001b[0;34m\u001b[0m\u001b[0m\n\u001b[1;32m   2129\u001b[0m     \u001b[0miconphoto\u001b[0m \u001b[0;34m=\u001b[0m \u001b[0mwm_iconphoto\u001b[0m\u001b[0;34m\u001b[0m\u001b[0;34m\u001b[0m\u001b[0m\n",
      "\u001b[0;31mTclError\u001b[0m: can't use \"pyimage13\" as iconphoto: not a photo image"
     ]
    }
   ],
   "source": [
    "import tkinter as tk\n",
    "from tkinter import *\n",
    "from tkinter import filedialog\n",
    "from tkinter.ttk import Combobox\n",
    "import pyttsx3\n",
    "import os\n",
    "\n",
    "\n",
    "root = Tk()\n",
    "root.title(\"Text to speech\")\n",
    "root.geometry(\"900x450+200+200\")\n",
    "root.resizable(False,False)\n",
    "root.configure(bg=\"#305065\")\n",
    "\n",
    "\n",
    "\n",
    "\n",
    "\n",
    "engine = pyttsx3.init()\n",
    "\n",
    "def speaknow():\n",
    "    text = text_area.get(1.0, END)\n",
    "    gender = gender_combobox.get()\n",
    "    speed = speed_combobox.get()\n",
    "    voices = engine.getProperty(\"Voices\")\n",
    "\n",
    "    def setVoice():\n",
    "        if(gender == \"Male\"):\n",
    "            engine.setProperty('voice',voices[0].id)\n",
    "            engine.say(text)\n",
    "            engine.runAndwait()\n",
    "\n",
    "        else:\n",
    "            engine.setProperty('voice',voices[1].id)\n",
    "            engine.say(text)\n",
    "            engine.runAndwait()\n",
    "\n",
    "    if(text):\n",
    "        if (speed ==\"Fast\"):\n",
    "            engine.setProperty(\"rate\",250)\n",
    "            setVoice()\n",
    "        elif (speed == \"Normal\"):\n",
    "            engine.setProperty(\"rate\",150)\n",
    "            setVoice()\n",
    "\n",
    "        else:\n",
    "            engine.setProperty(\"rate\", 60)\n",
    "            setVoice()\n",
    "\n",
    "\n",
    "def download():\n",
    "    print()\n",
    "    \n",
    "\n",
    "\n",
    "#icon\n",
    "image_icon = PhotoImage(file=\"speak.png\")\n",
    "root.iconphoto(False,image_icon)\n",
    "\n",
    "#top frame\n",
    "\n",
    "top_frame = Frame(root,bg =\"white\", width =900,height=100 )\n",
    "top_frame.place(x=0,y=0)\n",
    "\n",
    "\n",
    "logo = PhotoImage(file= \"speaker logo.png\")\n",
    "Label(top_frame,image=logo,bg =\"white\").place(x=10,y =5)\n",
    "\n",
    "Label(top_frame,text=\"TEXT TO SPEECH\", font =\"arial 20 bold\",bg =\"white\",fg=\"black\").place(x=100, y=30)\n",
    "\n",
    "\n",
    "#######\n",
    "text_area = Text(root,font=\"Robate 20\", bg=\"white\",relief=GROOVE,wrap=WORD)\n",
    "text_area.place(x=10, y=150,width=500,height=250)\n",
    "\n",
    "Label(root,text=\"VOICE\",font=\"arial 15 bold\",bg=\"#305065\",fg=\"white\").place(x=580,y=160)\n",
    "Label(root,text=\"SPEED\",font=\"arial 15 bold\",bg=\"#305065\",fg=\"white\").place(x=760,y=160)\n",
    "\n",
    "\n",
    "gender_combobox = Combobox(root,values=[\"Male\",\"Female\"],font=\"arial 14\",state=\"r\",width=10)\n",
    "gender_combobox.place(x=550,y=200)\n",
    "gender_combobox.set(\"Male\")\n",
    "\n",
    "speed_combobox = Combobox(root,values=[\"Fast\",\"Normal\",\"Slow\"],font=\"arial 14\",state=\"r\",width=10)\n",
    "speed_combobox.place(x=730,y=200)\n",
    "speed_combobox.set(\"Normal\")\n",
    "\n",
    "\n",
    "\n",
    "image_icon = PhotoImage(file=\"speak.png\")\n",
    "btn =Button(root,text=\"Speak\",compound=LEFT,image=image_icon, width=130,font=\"arial 14 bold\", command= speaknow)\n",
    "btn.place(x=550,y=280)\n",
    "\n",
    "\n",
    "image_icon2 = PhotoImage(file=\"download.png\")\n",
    "save =Button(root,text=\"Speak\",compound=LEFT,image=image_icon2,width=130,bg=\"#39c790\",font=\"arial 14 bold\",command= download)\n",
    "save.place(x=730,y=280)\n",
    "\n",
    "\n",
    "\n",
    "\n",
    "\n",
    "\n",
    "\n",
    "\n",
    "\n",
    "\n",
    "\n",
    "\n",
    "\n",
    "\n",
    "\n",
    "\n",
    "\n",
    "\n",
    "\n",
    "\n",
    "\n",
    "\n",
    "\n",
    "\n",
    "root.mainloop()\n",
    "\n"
   ]
  },
  {
   "cell_type": "code",
   "execution_count": null,
   "id": "f1c8e660",
   "metadata": {},
   "outputs": [],
   "source": []
  },
  {
   "cell_type": "code",
   "execution_count": null,
   "id": "220d2108",
   "metadata": {},
   "outputs": [],
   "source": []
  },
  {
   "cell_type": "code",
   "execution_count": null,
   "id": "8cd5c774",
   "metadata": {},
   "outputs": [],
   "source": []
  },
  {
   "cell_type": "code",
   "execution_count": null,
   "id": "27cf9cf8",
   "metadata": {},
   "outputs": [],
   "source": []
  },
  {
   "cell_type": "code",
   "execution_count": null,
   "id": "18614261",
   "metadata": {},
   "outputs": [],
   "source": []
  },
  {
   "cell_type": "code",
   "execution_count": null,
   "id": "1dfedeb2",
   "metadata": {},
   "outputs": [],
   "source": []
  },
  {
   "cell_type": "code",
   "execution_count": null,
   "id": "649d46cf",
   "metadata": {},
   "outputs": [],
   "source": []
  },
  {
   "cell_type": "code",
   "execution_count": null,
   "id": "06f91fe8",
   "metadata": {},
   "outputs": [],
   "source": []
  },
  {
   "cell_type": "code",
   "execution_count": null,
   "id": "dfd7c868",
   "metadata": {},
   "outputs": [],
   "source": []
  },
  {
   "cell_type": "code",
   "execution_count": null,
   "id": "89e9c7cf",
   "metadata": {},
   "outputs": [],
   "source": []
  },
  {
   "cell_type": "code",
   "execution_count": null,
   "id": "f49036db",
   "metadata": {},
   "outputs": [],
   "source": []
  },
  {
   "cell_type": "code",
   "execution_count": null,
   "id": "2ba69765",
   "metadata": {},
   "outputs": [],
   "source": []
  },
  {
   "cell_type": "code",
   "execution_count": null,
   "id": "f660bd6a",
   "metadata": {},
   "outputs": [],
   "source": []
  },
  {
   "cell_type": "code",
   "execution_count": null,
   "id": "f60061e3",
   "metadata": {},
   "outputs": [],
   "source": []
  },
  {
   "cell_type": "code",
   "execution_count": null,
   "id": "a9ab9d78",
   "metadata": {},
   "outputs": [],
   "source": []
  },
  {
   "cell_type": "code",
   "execution_count": null,
   "id": "7684dae3",
   "metadata": {},
   "outputs": [],
   "source": []
  },
  {
   "cell_type": "code",
   "execution_count": null,
   "id": "2ee3e5a2",
   "metadata": {},
   "outputs": [],
   "source": []
  },
  {
   "cell_type": "code",
   "execution_count": null,
   "id": "8b673602",
   "metadata": {},
   "outputs": [],
   "source": []
  },
  {
   "cell_type": "code",
   "execution_count": null,
   "id": "197de9ce",
   "metadata": {},
   "outputs": [],
   "source": []
  },
  {
   "cell_type": "code",
   "execution_count": null,
   "id": "674b04c6",
   "metadata": {},
   "outputs": [],
   "source": []
  },
  {
   "cell_type": "code",
   "execution_count": null,
   "id": "cdd87916",
   "metadata": {},
   "outputs": [],
   "source": []
  },
  {
   "cell_type": "code",
   "execution_count": null,
   "id": "3ada5057",
   "metadata": {},
   "outputs": [],
   "source": []
  },
  {
   "cell_type": "code",
   "execution_count": null,
   "id": "77d92dd9",
   "metadata": {},
   "outputs": [],
   "source": []
  },
  {
   "cell_type": "code",
   "execution_count": null,
   "id": "257efea7",
   "metadata": {},
   "outputs": [],
   "source": []
  },
  {
   "cell_type": "code",
   "execution_count": null,
   "id": "dea89611",
   "metadata": {},
   "outputs": [],
   "source": []
  },
  {
   "cell_type": "code",
   "execution_count": null,
   "id": "092bbc63",
   "metadata": {},
   "outputs": [],
   "source": []
  },
  {
   "cell_type": "code",
   "execution_count": null,
   "id": "1ebae2c4",
   "metadata": {},
   "outputs": [],
   "source": []
  },
  {
   "cell_type": "code",
   "execution_count": null,
   "id": "7baba6fa",
   "metadata": {},
   "outputs": [],
   "source": []
  }
 ],
 "metadata": {
  "kernelspec": {
   "display_name": "Python 3 (ipykernel)",
   "language": "python",
   "name": "python3"
  },
  "language_info": {
   "codemirror_mode": {
    "name": "ipython",
    "version": 3
   },
   "file_extension": ".py",
   "mimetype": "text/x-python",
   "name": "python",
   "nbconvert_exporter": "python",
   "pygments_lexer": "ipython3",
   "version": "3.9.7"
  }
 },
 "nbformat": 4,
 "nbformat_minor": 5
}
